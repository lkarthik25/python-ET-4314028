{
 "cells": [
  {
   "cell_type": "code",
   "execution_count": 7,
   "id": "7f05fbb8-54aa-4670-b488-ba11a22455e0",
   "metadata": {},
   "outputs": [],
   "source": [
    "import math"
   ]
  },
  {
   "cell_type": "code",
   "execution_count": 1,
   "id": "3b410024-8440-4165-9df5-e7c36da1db2b",
   "metadata": {},
   "outputs": [
    {
     "data": {
      "text/plain": [
       "5"
      ]
     },
     "execution_count": 1,
     "metadata": {},
     "output_type": "execute_result"
    }
   ],
   "source": [
    "def perfOprtn(num1,num2,op):\n",
    "    if op=='sum':\n",
    "        return num1+num2\n",
    "    if op=='mult':\n",
    "        return num1*num2\n",
    "perfOprtn(2,3,'sum')"
   ]
  },
  {
   "cell_type": "code",
   "execution_count": 2,
   "id": "42401f18-e718-4aee-986f-f405a8935a95",
   "metadata": {},
   "outputs": [
    {
     "data": {
      "text/plain": [
       "6"
      ]
     },
     "execution_count": 2,
     "metadata": {},
     "output_type": "execute_result"
    }
   ],
   "source": [
    "def perfOprtn(num1,num2,op='sum'):\n",
    "    if op=='sum':\n",
    "        return num1+num2\n",
    "    if op=='mult':\n",
    "        return num1*num2\n",
    "perfOprtn(2,3,'mult')"
   ]
  },
  {
   "cell_type": "code",
   "execution_count": 4,
   "id": "1e2aaaf2-3d59-409a-bade-8ff3b07524b1",
   "metadata": {},
   "outputs": [
    {
     "name": "stdout",
     "output_type": "stream",
     "text": [
      "(1, 2, 3)\n"
     ]
    }
   ],
   "source": [
    "def perfOprtn(*args):\n",
    "    print(args)\n",
    "perfOprtn(1,2,3)"
   ]
  },
  {
   "cell_type": "code",
   "execution_count": 5,
   "id": "4295acb0-3aaf-4e93-9b1d-7fc095fa5096",
   "metadata": {},
   "outputs": [
    {
     "ename": "TypeError",
     "evalue": "perfOprtn() got an unexpected keyword argument 'op'",
     "output_type": "error",
     "traceback": [
      "\u001b[1;31m---------------------------------------------------------------------------\u001b[0m",
      "\u001b[1;31mTypeError\u001b[0m                                 Traceback (most recent call last)",
      "Cell \u001b[1;32mIn[5], line 1\u001b[0m\n\u001b[1;32m----> 1\u001b[0m \u001b[43mperfOprtn\u001b[49m\u001b[43m(\u001b[49m\u001b[38;5;241;43m1\u001b[39;49m\u001b[43m,\u001b[49m\u001b[38;5;241;43m2\u001b[39;49m\u001b[43m,\u001b[49m\u001b[38;5;241;43m3\u001b[39;49m\u001b[43m,\u001b[49m\u001b[43mop\u001b[49m\u001b[38;5;241;43m=\u001b[39;49m\u001b[38;5;124;43m'\u001b[39;49m\u001b[38;5;124;43msum\u001b[39;49m\u001b[38;5;124;43m'\u001b[39;49m\u001b[43m)\u001b[49m\n",
      "\u001b[1;31mTypeError\u001b[0m: perfOprtn() got an unexpected keyword argument 'op'"
     ]
    }
   ],
   "source": [
    "perfOprtn(1,2,3,op='sum')"
   ]
  },
  {
   "cell_type": "code",
   "execution_count": 6,
   "id": "74a85460-1e60-4035-99a4-ce9aad268403",
   "metadata": {},
   "outputs": [
    {
     "name": "stdout",
     "output_type": "stream",
     "text": [
      "(1, 2, 3)\n",
      "{'op': 'sum'}\n"
     ]
    }
   ],
   "source": [
    "def perfOprtn(*args,**kwargs):\n",
    "    print(args)\n",
    "    print(kwargs)\n",
    "perfOprtn(1,2,3,op='sum')"
   ]
  },
  {
   "cell_type": "code",
   "execution_count": 11,
   "id": "588a333a-8d44-4fb8-b82f-e1211f0a8aeb",
   "metadata": {},
   "outputs": [
    {
     "data": {
      "text/plain": [
       "106"
      ]
     },
     "execution_count": 11,
     "metadata": {},
     "output_type": "execute_result"
    }
   ],
   "source": [
    "def perfOprtn(*args,op='sum'):\n",
    "    if op=='sum':\n",
    "        return sum(args)\n",
    "    if op=='mult':\n",
    "        return math.prod(args)\n",
    "perfOprtn(1,2,3,100,op='sum')"
   ]
  },
  {
   "cell_type": "code",
   "execution_count": 12,
   "id": "d286b885-cd5f-4a4c-9aca-67aad40e5c0e",
   "metadata": {},
   "outputs": [
    {
     "name": "stdout",
     "output_type": "stream",
     "text": [
      "{'num1': 2, 'num2': 3, 'op': 'mult'}\n"
     ]
    },
    {
     "data": {
      "text/plain": [
       "6"
      ]
     },
     "execution_count": 12,
     "metadata": {},
     "output_type": "execute_result"
    }
   ],
   "source": [
    "def perfOprtn(num1,num2,op='sum'):\n",
    "    print(locals())\n",
    "    if op=='sum':\n",
    "        return num1+num2\n",
    "    if op=='mult':\n",
    "        return num1*num2\n",
    "perfOprtn(2,3,'mult')"
   ]
  },
  {
   "cell_type": "code",
   "execution_count": 13,
   "id": "280c4aa5-f6d5-4947-abd4-dd35a3533855",
   "metadata": {},
   "outputs": [
    {
     "data": {
      "text/plain": [
       "{'__name__': '__main__',\n",
       " '__doc__': 'Automatically created module for IPython interactive environment',\n",
       " '__package__': None,\n",
       " '__loader__': None,\n",
       " '__spec__': None,\n",
       " '__builtin__': <module 'builtins' (built-in)>,\n",
       " '__builtins__': <module 'builtins' (built-in)>,\n",
       " '_ih': ['',\n",
       "  \"def perfOprtn(num1,num2,op):\\n    if op=='sum':\\n        return num1+num2\\n    if op=='mult':\\n        return num1*num2\\nperfOprtn(2,3,'sum')\",\n",
       "  \"def perfOprtn(num1,num2,op='sum'):\\n    if op=='sum':\\n        return num1+num2\\n    if op=='mult':\\n        return num1*num2\\nperfOprtn(2,3,'mult')\",\n",
       "  'def perfOprtn(args):\\n    print(args)\\nperfOprtn(1,2,3)',\n",
       "  'def perfOprtn(*args):\\n    print(args)\\nperfOprtn(1,2,3)',\n",
       "  \"perfOprtn(1,2,3,op='sum')\",\n",
       "  \"def perfOprtn(*args,**kwargs):\\n    print(args)\\n    print(kwargs)\\nperfOprtn(1,2,3,op='sum')\",\n",
       "  'import math',\n",
       "  \"def perfOprtn(*args,op='sum'):\\n    if op=='sum':\\n        return num1+num2\\n    if op=='mult':\\n        return math.prod(num1*num2)\\nperfOprtn(1,2,3,op='sum')\",\n",
       "  \"def perfOprtn(*args,op='sum'):\\n    if op=='sum':\\n        return sum(args)\\n    if op=='mult':\\n        return math.prod(args)\\nperfOprtn(1,2,3,op='sum')\",\n",
       "  \"def perfOprtn(*args,op='sum'):\\n    if op=='sum':\\n        return sum(args)\\n    if op=='mult':\\n        return math.prod(args)\\nperfOprtn(1,2,3,100op='sum')\",\n",
       "  \"def perfOprtn(*args,op='sum'):\\n    if op=='sum':\\n        return sum(args)\\n    if op=='mult':\\n        return math.prod(args)\\nperfOprtn(1,2,3,100,op='sum')\",\n",
       "  \"def perfOprtn(num1,num2,op='sum'):\\n    print(locals())\\n    if op=='sum':\\n        return num1+num2\\n    if op=='mult':\\n        return num1*num2\\nperfOprtn(2,3,'mult')\",\n",
       "  'globals()'],\n",
       " '_oh': {1: 5, 2: 6, 9: 6, 11: 106, 12: 6},\n",
       " '_dh': [WindowsPath('C:/Users/lkart/Downloads/GitHub/python-ET-4314028/exercise_files')],\n",
       " 'In': ['',\n",
       "  \"def perfOprtn(num1,num2,op):\\n    if op=='sum':\\n        return num1+num2\\n    if op=='mult':\\n        return num1*num2\\nperfOprtn(2,3,'sum')\",\n",
       "  \"def perfOprtn(num1,num2,op='sum'):\\n    if op=='sum':\\n        return num1+num2\\n    if op=='mult':\\n        return num1*num2\\nperfOprtn(2,3,'mult')\",\n",
       "  'def perfOprtn(args):\\n    print(args)\\nperfOprtn(1,2,3)',\n",
       "  'def perfOprtn(*args):\\n    print(args)\\nperfOprtn(1,2,3)',\n",
       "  \"perfOprtn(1,2,3,op='sum')\",\n",
       "  \"def perfOprtn(*args,**kwargs):\\n    print(args)\\n    print(kwargs)\\nperfOprtn(1,2,3,op='sum')\",\n",
       "  'import math',\n",
       "  \"def perfOprtn(*args,op='sum'):\\n    if op=='sum':\\n        return num1+num2\\n    if op=='mult':\\n        return math.prod(num1*num2)\\nperfOprtn(1,2,3,op='sum')\",\n",
       "  \"def perfOprtn(*args,op='sum'):\\n    if op=='sum':\\n        return sum(args)\\n    if op=='mult':\\n        return math.prod(args)\\nperfOprtn(1,2,3,op='sum')\",\n",
       "  \"def perfOprtn(*args,op='sum'):\\n    if op=='sum':\\n        return sum(args)\\n    if op=='mult':\\n        return math.prod(args)\\nperfOprtn(1,2,3,100op='sum')\",\n",
       "  \"def perfOprtn(*args,op='sum'):\\n    if op=='sum':\\n        return sum(args)\\n    if op=='mult':\\n        return math.prod(args)\\nperfOprtn(1,2,3,100,op='sum')\",\n",
       "  \"def perfOprtn(num1,num2,op='sum'):\\n    print(locals())\\n    if op=='sum':\\n        return num1+num2\\n    if op=='mult':\\n        return num1*num2\\nperfOprtn(2,3,'mult')\",\n",
       "  'globals()'],\n",
       " 'Out': {1: 5, 2: 6, 9: 6, 11: 106, 12: 6},\n",
       " 'get_ipython': <bound method InteractiveShell.get_ipython of <ipykernel.zmqshell.ZMQInteractiveShell object at 0x000001E45E432CF0>>,\n",
       " 'exit': <IPython.core.autocall.ZMQExitAutocall at 0x1e45e4c06e0>,\n",
       " 'quit': <IPython.core.autocall.ZMQExitAutocall at 0x1e45e4c06e0>,\n",
       " 'open': <function _io.open(file, mode='r', buffering=-1, encoding=None, errors=None, newline=None, closefd=True, opener=None)>,\n",
       " '_': 6,\n",
       " '__': 106,\n",
       " '___': 6,\n",
       " '__session__': 'C:\\\\Users\\\\lkart\\\\Downloads\\\\GitHub\\\\python-ET-4314028\\\\exercise_files\\\\06.ipynb',\n",
       " '_i': \"def perfOprtn(num1,num2,op='sum'):\\n    print(locals())\\n    if op=='sum':\\n        return num1+num2\\n    if op=='mult':\\n        return num1*num2\\nperfOprtn(2,3,'mult')\",\n",
       " '_ii': \"def perfOprtn(*args,op='sum'):\\n    if op=='sum':\\n        return sum(args)\\n    if op=='mult':\\n        return math.prod(args)\\nperfOprtn(1,2,3,100,op='sum')\",\n",
       " '_iii': \"def perfOprtn(*args,op='sum'):\\n    if op=='sum':\\n        return sum(args)\\n    if op=='mult':\\n        return math.prod(args)\\nperfOprtn(1,2,3,100op='sum')\",\n",
       " '_i1': \"def perfOprtn(num1,num2,op):\\n    if op=='sum':\\n        return num1+num2\\n    if op=='mult':\\n        return num1*num2\\nperfOprtn(2,3,'sum')\",\n",
       " 'perfOprtn': <function __main__.perfOprtn(num1, num2, op='sum')>,\n",
       " '_1': 5,\n",
       " '_i2': \"def perfOprtn(num1,num2,op='sum'):\\n    if op=='sum':\\n        return num1+num2\\n    if op=='mult':\\n        return num1*num2\\nperfOprtn(2,3,'mult')\",\n",
       " '_2': 6,\n",
       " '_i3': 'def perfOprtn(args):\\n    print(args)\\nperfOprtn(1,2,3)',\n",
       " '_i4': 'def perfOprtn(*args):\\n    print(args)\\nperfOprtn(1,2,3)',\n",
       " '_i5': \"perfOprtn(1,2,3,op='sum')\",\n",
       " '_i6': \"def perfOprtn(*args,**kwargs):\\n    print(args)\\n    print(kwargs)\\nperfOprtn(1,2,3,op='sum')\",\n",
       " '_i7': 'import math',\n",
       " 'math': <module 'math' (built-in)>,\n",
       " '_i8': \"def perfOprtn(*args,op='sum'):\\n    if op=='sum':\\n        return num1+num2\\n    if op=='mult':\\n        return math.prod(num1*num2)\\nperfOprtn(1,2,3,op='sum')\",\n",
       " '_i9': \"def perfOprtn(*args,op='sum'):\\n    if op=='sum':\\n        return sum(args)\\n    if op=='mult':\\n        return math.prod(args)\\nperfOprtn(1,2,3,op='sum')\",\n",
       " '_9': 6,\n",
       " '_i10': \"def perfOprtn(*args,op='sum'):\\n    if op=='sum':\\n        return sum(args)\\n    if op=='mult':\\n        return math.prod(args)\\nperfOprtn(1,2,3,100op='sum')\",\n",
       " '_i11': \"def perfOprtn(*args,op='sum'):\\n    if op=='sum':\\n        return sum(args)\\n    if op=='mult':\\n        return math.prod(args)\\nperfOprtn(1,2,3,100,op='sum')\",\n",
       " '_11': 106,\n",
       " '_i12': \"def perfOprtn(num1,num2,op='sum'):\\n    print(locals())\\n    if op=='sum':\\n        return num1+num2\\n    if op=='mult':\\n        return num1*num2\\nperfOprtn(2,3,'mult')\",\n",
       " '_12': 6,\n",
       " '_i13': 'globals()'}"
      ]
     },
     "execution_count": 13,
     "metadata": {},
     "output_type": "execute_result"
    }
   ],
   "source": [
    "globals()"
   ]
  },
  {
   "cell_type": "code",
   "execution_count": 16,
   "id": "e67cbb76-7df8-4af6-87a0-afad6415b05e",
   "metadata": {},
   "outputs": [
    {
     "name": "stdout",
     "output_type": "stream",
     "text": [
      "1\n",
      "something\n",
      "{'var1': 1, 'var2': 2}\n",
      "2\n",
      "something\n",
      "{'var2': 3, 'var3': 4}\n"
     ]
    }
   ],
   "source": [
    "msg='something'\n",
    "var1=2\n",
    "def func1(var1,var2):\n",
    "    print(var1)\n",
    "    print(msg)\n",
    "    print(locals())\n",
    "def func2(var2,var3):\n",
    "    print(var1)\n",
    "    print(msg)\n",
    "    print(locals())\n",
    "func1(1,2)\n",
    "func2(3,4)"
   ]
  },
  {
   "cell_type": "code",
   "execution_count": 20,
   "id": "d0683546-382f-4c33-9ea4-ed2a7d8e69ee",
   "metadata": {},
   "outputs": [
    {
     "name": "stdout",
     "output_type": "stream",
     "text": [
      "1\n",
      "something else\n",
      "{'var1': 1, 'var2': 2, 'msg': 'something else'}\n",
      "{'var1': 123, 'var2': 456}\n"
     ]
    }
   ],
   "source": [
    "msg='something'\n",
    "var1=2\n",
    "def func1(var1,var2):\n",
    "    msg='something else'\n",
    "    print(var1)\n",
    "    print(msg)\n",
    "    print(locals())\n",
    "    def func2(var1,var2):\n",
    "        print(locals())\n",
    "    func2(123,456)\n",
    "func1(1,2)"
   ]
  },
  {
   "cell_type": "code",
   "execution_count": 21,
   "id": "0e082fa3-544e-470c-8f95-6aa192cc22a9",
   "metadata": {},
   "outputs": [],
   "source": [
    "x=5"
   ]
  },
  {
   "cell_type": "code",
   "execution_count": 25,
   "id": "c923de8a-6f2c-460f-8a13-6294bee0b54d",
   "metadata": {},
   "outputs": [],
   "source": [
    "def x():\n",
    "    return 5"
   ]
  },
  {
   "cell_type": "code",
   "execution_count": 27,
   "id": "1015f9e8-5c72-42d8-a106-7af7d6d9005e",
   "metadata": {},
   "outputs": [
    {
     "name": "stdout",
     "output_type": "stream",
     "text": [
      "()\n",
      "b'\\x95\\x00g\\x01'\n"
     ]
    }
   ],
   "source": [
    "print(x.__code__.co_varnames)\n",
    "print(x.__code__.co_code)"
   ]
  },
  {
   "cell_type": "code",
   "execution_count": 28,
   "id": "befce0df-2b25-4560-965f-8626d0b24e06",
   "metadata": {},
   "outputs": [
    {
     "name": "stdout",
     "output_type": "stream",
     "text": [
      "The Zen of Python, by Tim Peters\n",
      "\n",
      "Beautiful is better than ugly.\n",
      "Explicit is better than implicit.\n",
      "Simple is better than complex.\n",
      "Complex is better than complicated.\n",
      "Flat is better than nested.\n",
      "Sparse is better than dense.\n",
      "Readability counts.\n",
      "Special cases aren't special enough to break the rules.\n",
      "Although practicality beats purity.\n",
      "Errors should never pass silently.\n",
      "Unless explicitly silenced.\n",
      "In the face of ambiguity, refuse the temptation to guess.\n",
      "There should be one-- and preferably only one --obvious way to do it.\n",
      "Although that way may not be obvious at first unless you're Dutch.\n",
      "Now is better than never.\n",
      "Although never is often better than *right* now.\n",
      "If the implementation is hard to explain, it's a bad idea.\n",
      "If the implementation is easy to explain, it may be a good idea.\n",
      "Namespaces are one honking great idea -- let's do more of those!\n"
     ]
    }
   ],
   "source": [
    "import this"
   ]
  },
  {
   "cell_type": "code",
   "execution_count": 36,
   "id": "47b7945d-2ed2-44d8-9a0e-95b8e91216f8",
   "metadata": {},
   "outputs": [],
   "source": [
    "text='''\n",
    "Beautiful is better than ugly.\n",
    "Explicit is better than implicit.\n",
    "Simple is better than complex.\n",
    "Complex is better than complicated.\n",
    "Flat is better than nested.\n",
    "Sparse is better than dense.\n",
    "Readability counts.\n",
    "Special cases aren't special enough to break the rules.\n",
    "Although practicality beats purity.\n",
    "Errors should never pass silently.\n",
    "Unless explicitly silenced.\n",
    "In the face of ambiguity, refuse the temptation to guess.\n",
    "There should be one-- and preferably only one --obvious way to do it.\n",
    "Although that way may not be obvious at first unless you're Dutch.\n",
    "Now is better than never.\n",
    "Although never is often better than *right* now.\n",
    "If the implementation is hard to explain, it's a bad idea.\n",
    "If the implementation is easy to explain, it may be a good idea.\n",
    "Namespaces are one honking great idea -- let's do more of those!\n",
    "'''"
   ]
  },
  {
   "cell_type": "code",
   "execution_count": 37,
   "id": "135b2a40-894f-44f9-95fe-b1dd348dba44",
   "metadata": {},
   "outputs": [],
   "source": [
    "def lowercase(text):\n",
    "    return text.lower()\n",
    "def removePunct(text):\n",
    "    punct=['.',',','-','!','*']\n",
    "    for char in punct:\n",
    "        text=text.replace(char,'')\n",
    "    return text\n",
    "def removeNewLines(text):\n",
    "    return text.replace('\\n',' ')\n",
    "def removeShort(text):\n",
    "    return ' '.join([word for word in text.split() if len(word) > 3])\n",
    "def removeLong(text):\n",
    "    return ' '.join([word for word in text.split() if len(word) < 7])"
   ]
  },
  {
   "cell_type": "code",
   "execution_count": 38,
   "id": "87a88534-d993-467f-a288-8457da2f2698",
   "metadata": {},
   "outputs": [
    {
     "name": "stdout",
     "output_type": "stream",
     "text": [
      "beautiful better than ugly explicit better than implicit simple better than complex complex better than complicated flat better than nested sparse better than dense readability counts special cases aren't special enough break rules although practicality beats purity errors should never pass silently unless explicitly silenced face ambiguity refuse temptation guess there should preferably only obvious although that obvious first unless you're dutch better than never although never often better than right implementation hard explain it's idea implementation easy explain good idea namespaces honking great idea let's more those\n"
     ]
    }
   ],
   "source": [
    "processText=[lowercase,removePunct,removeShort]\n",
    "for func in processText:\n",
    "    text=func(text)\n",
    "print(text)"
   ]
  },
  {
   "cell_type": "code",
   "execution_count": 39,
   "id": "303e1d29-48ab-4314-ab68-bab16fe17d7f",
   "metadata": {},
   "outputs": [
    {
     "data": {
      "text/plain": [
       "8"
      ]
     },
     "execution_count": 39,
     "metadata": {},
     "output_type": "execute_result"
    }
   ],
   "source": [
    "(lambda x:x+3)(5)"
   ]
  },
  {
   "cell_type": "code",
   "execution_count": 40,
   "id": "55a62442-fb9d-4f6b-8863-c3ab9dc19954",
   "metadata": {},
   "outputs": [
    {
     "ename": "TypeError",
     "evalue": "can only concatenate list (not \"int\") to list",
     "output_type": "error",
     "traceback": [
      "\u001b[1;31m---------------------------------------------------------------------------\u001b[0m",
      "\u001b[1;31mTypeError\u001b[0m                                 Traceback (most recent call last)",
      "Cell \u001b[1;32mIn[40], line 1\u001b[0m\n\u001b[1;32m----> 1\u001b[0m \u001b[43m(\u001b[49m\u001b[38;5;28;43;01mlambda\u001b[39;49;00m\u001b[43m \u001b[49m\u001b[43mx\u001b[49m\u001b[43m:\u001b[49m\u001b[43mx\u001b[49m\u001b[38;5;241;43m+\u001b[39;49m\u001b[38;5;241;43m3\u001b[39;49m\u001b[43m)\u001b[49m\u001b[43m(\u001b[49m\u001b[43m[\u001b[49m\u001b[38;5;241;43m5\u001b[39;49m\u001b[43m,\u001b[49m\u001b[38;5;241;43m3\u001b[39;49m\u001b[43m]\u001b[49m\u001b[43m)\u001b[49m\n",
      "Cell \u001b[1;32mIn[40], line 1\u001b[0m, in \u001b[0;36m<lambda>\u001b[1;34m(x)\u001b[0m\n\u001b[1;32m----> 1\u001b[0m (\u001b[38;5;28;01mlambda\u001b[39;00m x:\u001b[43mx\u001b[49m\u001b[38;5;241;43m+\u001b[39;49m\u001b[38;5;241;43m3\u001b[39;49m)([\u001b[38;5;241m5\u001b[39m,\u001b[38;5;241m3\u001b[39m])\n",
      "\u001b[1;31mTypeError\u001b[0m: can only concatenate list (not \"int\") to list"
     ]
    }
   ],
   "source": [
    "(lambda x:x+3)([5,3])"
   ]
  },
  {
   "cell_type": "code",
   "execution_count": 41,
   "id": "5566b5a0-e6f4-4157-97f4-c2f22da3e281",
   "metadata": {},
   "outputs": [
    {
     "data": {
      "text/plain": [
       "[3, 4, 5]"
      ]
     },
     "execution_count": 41,
     "metadata": {},
     "output_type": "execute_result"
    }
   ],
   "source": [
    "myList=[5,4,3]\n",
    "sorted(myList)"
   ]
  },
  {
   "cell_type": "code",
   "execution_count": 42,
   "id": "74968ddb-a2bc-4e62-ad86-555838837bdc",
   "metadata": {},
   "outputs": [
    {
     "data": {
      "text/plain": [
       "[{'num': 2}, {'num': 3}, {'num': 7}]"
      ]
     },
     "execution_count": 42,
     "metadata": {},
     "output_type": "execute_result"
    }
   ],
   "source": [
    "myList=[{'num':3},{'num':2},{'num':7}]\n",
    "sorted(myList,key=lambda x:x['num'])"
   ]
  },
  {
   "cell_type": "code",
   "execution_count": null,
   "id": "987ab9a5-cc62-49d2-ae27-45e38264b30d",
   "metadata": {},
   "outputs": [],
   "source": []
  }
 ],
 "metadata": {
  "kernelspec": {
   "display_name": "Python 3 (ipykernel)",
   "language": "python",
   "name": "python3"
  },
  "language_info": {
   "codemirror_mode": {
    "name": "ipython",
    "version": 3
   },
   "file_extension": ".py",
   "mimetype": "text/x-python",
   "name": "python",
   "nbconvert_exporter": "python",
   "pygments_lexer": "ipython3",
   "version": "3.13.0"
  }
 },
 "nbformat": 4,
 "nbformat_minor": 5
}
