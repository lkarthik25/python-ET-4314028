{
 "cells": [
  {
   "cell_type": "code",
   "execution_count": null,
   "id": "12e49ffe-0556-453f-9795-c533bbaab7a8",
   "metadata": {},
   "outputs": [],
   "source": []
  }
 ],
 "metadata": {
  "kernelspec": {
   "display_name": "",
   "name": ""
  },
  "language_info": {
   "name": ""
  }
 },
 "nbformat": 4,
 "nbformat_minor": 5
}
