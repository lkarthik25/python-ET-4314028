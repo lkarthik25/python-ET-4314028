{
 "cells": [
  {
   "cell_type": "code",
   "execution_count": 1,
   "id": "3b410024-8440-4165-9df5-e7c36da1db2b",
   "metadata": {},
   "outputs": [],
   "source": [
    "import time"
   ]
  },
  {
   "cell_type": "code",
   "execution_count": 6,
   "id": "c87dec1d-b385-4317-8d99-1a5a335a9d8a",
   "metadata": {},
   "outputs": [
    {
     "name": "stdout",
     "output_type": "stream",
     "text": [
      "1.0002460479736328\n"
     ]
    }
   ],
   "source": [
    "start=time.time()\n",
    "time.sleep(1)\n",
    "print(time.time()-start)"
   ]
  },
  {
   "cell_type": "code",
   "execution_count": 7,
   "id": "b5e4dd73-3b08-4d86-9b0c-87ab950ea4f8",
   "metadata": {},
   "outputs": [],
   "source": [
    "from multiprocess import Process"
   ]
  },
  {
   "cell_type": "code",
   "execution_count": 13,
   "id": "05cf6dd7-29bc-4e5b-bb1c-94fb86c53f35",
   "metadata": {},
   "outputs": [
    {
     "name": "stdout",
     "output_type": "stream",
     "text": [
      "<Process name='Process-5' pid=11256 parent=13360 stopped exitcode=1>\n"
     ]
    }
   ],
   "source": [
    "def longCube(num):\n",
    "    time.sleep(2)\n",
    "    print(num**3)\n",
    "\n",
    "p1=Process(target=longCube,args=(1,))\n",
    "p2=Process(target=longCube,args=(2,))\n",
    "\n",
    "p1.start()\n",
    "p2.start()\n",
    "\n",
    "p1.join()\n",
    "p2.join()\n",
    "print(p1)"
   ]
  },
  {
   "cell_type": "code",
   "execution_count": 12,
   "id": "5c7c09c4-9b81-4c3c-b66b-6240108e902c",
   "metadata": {},
   "outputs": [],
   "source": []
  },
  {
   "cell_type": "code",
   "execution_count": null,
   "id": "815fdd98-f636-46de-a7d0-016c3c04f06a",
   "metadata": {},
   "outputs": [],
   "source": []
  }
 ],
 "metadata": {
  "kernelspec": {
   "display_name": "Python 3 (ipykernel)",
   "language": "python",
   "name": "python3"
  },
  "language_info": {
   "codemirror_mode": {
    "name": "ipython",
    "version": 3
   },
   "file_extension": ".py",
   "mimetype": "text/x-python",
   "name": "python",
   "nbconvert_exporter": "python",
   "pygments_lexer": "ipython3",
   "version": "3.13.0"
  }
 },
 "nbformat": 4,
 "nbformat_minor": 5
}
