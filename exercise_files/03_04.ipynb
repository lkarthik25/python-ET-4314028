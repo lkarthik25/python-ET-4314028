{
 "cells": [
  {
   "cell_type": "code",
   "execution_count": 10,
   "id": "54417235-a046-4b2f-8d02-45ef91bd0b9a",
   "metadata": {},
   "outputs": [],
   "source": [
    "import math"
   ]
  },
  {
   "cell_type": "code",
   "execution_count": 1,
   "id": "9168b76f-978e-4c5b-bc03-590f23ea2fce",
   "metadata": {},
   "outputs": [],
   "source": [
    "name='My name is Karthik Reddy'"
   ]
  },
  {
   "cell_type": "code",
   "execution_count": 2,
   "id": "54e8c948-cac4-47c3-a03a-b27f87e661e3",
   "metadata": {},
   "outputs": [
    {
     "data": {
      "text/plain": [
       "'M'"
      ]
     },
     "execution_count": 2,
     "metadata": {},
     "output_type": "execute_result"
    }
   ],
   "source": [
    "name[0]"
   ]
  },
  {
   "cell_type": "code",
   "execution_count": 3,
   "id": "c2f76f4a-f20c-4417-aa9c-9a0678e4e63d",
   "metadata": {},
   "outputs": [
    {
     "data": {
      "text/plain": [
       "'My name'"
      ]
     },
     "execution_count": 3,
     "metadata": {},
     "output_type": "execute_result"
    }
   ],
   "source": [
    "name[0:7]"
   ]
  },
  {
   "cell_type": "code",
   "execution_count": 4,
   "id": "97f45dc6-f910-4fa2-8017-f057fe802301",
   "metadata": {},
   "outputs": [
    {
     "data": {
      "text/plain": [
       "'My name'"
      ]
     },
     "execution_count": 4,
     "metadata": {},
     "output_type": "execute_result"
    }
   ],
   "source": [
    "name[:7]"
   ]
  },
  {
   "cell_type": "code",
   "execution_count": 5,
   "id": "1984f48d-bb95-4df0-8784-b97e25dde089",
   "metadata": {},
   "outputs": [
    {
     "data": {
      "text/plain": [
       "'Karthik Reddy'"
      ]
     },
     "execution_count": 5,
     "metadata": {},
     "output_type": "execute_result"
    }
   ],
   "source": [
    "name[11:]"
   ]
  },
  {
   "cell_type": "code",
   "execution_count": 6,
   "id": "857357b2-2305-4682-b8aa-4537c53b37b9",
   "metadata": {},
   "outputs": [],
   "source": [
    "myList=[1,2,3,4,5]"
   ]
  },
  {
   "cell_type": "code",
   "execution_count": 9,
   "id": "4634ae07-76c0-4dc0-88b7-dd83dec1a3aa",
   "metadata": {},
   "outputs": [
    {
     "data": {
      "text/plain": [
       "[3, 4, 5]"
      ]
     },
     "execution_count": 9,
     "metadata": {},
     "output_type": "execute_result"
    }
   ],
   "source": [
    "myList[2:5]"
   ]
  },
  {
   "cell_type": "code",
   "execution_count": 11,
   "id": "00eb75ee-29ca-4209-b5ef-200d53c4ee53",
   "metadata": {},
   "outputs": [
    {
     "data": {
      "text/plain": [
       "'Pi is 3.14'"
      ]
     },
     "execution_count": 11,
     "metadata": {},
     "output_type": "execute_result"
    }
   ],
   "source": [
    "f'Pi is {math.pi:.2f}'"
   ]
  },
  {
   "cell_type": "code",
   "execution_count": 12,
   "id": "4ebc657a-3c44-4bcd-bc3c-fb16ae00c689",
   "metadata": {},
   "outputs": [],
   "source": [
    "myString ='''\n",
    "twaseughi\n",
    "ahtiht\n",
    "\\'\\'\\'\n",
    "'''"
   ]
  },
  {
   "cell_type": "code",
   "execution_count": 13,
   "id": "2e864e79-ab23-4c66-97a8-ef51fb32344f",
   "metadata": {},
   "outputs": [
    {
     "name": "stdout",
     "output_type": "stream",
     "text": [
      "\n",
      "twaseughi\n",
      "ahtiht\n",
      "'''\n",
      "\n"
     ]
    }
   ],
   "source": [
    "print(myString)"
   ]
  },
  {
   "cell_type": "code",
   "execution_count": 15,
   "id": "e30aa15c-d910-45b2-97e0-c4d35ee18c31",
   "metadata": {},
   "outputs": [
    {
     "data": {
      "text/plain": [
       "b'\\x00\\x00\\x00\\x00'"
      ]
     },
     "execution_count": 15,
     "metadata": {},
     "output_type": "execute_result"
    }
   ],
   "source": [
    "bytes(4)"
   ]
  },
  {
   "cell_type": "code",
   "execution_count": 20,
   "id": "7f8baee6-ec1f-4ff5-9d7f-e2bc62447c7f",
   "metadata": {},
   "outputs": [
    {
     "data": {
      "text/plain": [
       "b'\\xf0\\x9f\\x98\\x82'"
      ]
     },
     "execution_count": 20,
     "metadata": {},
     "output_type": "execute_result"
    }
   ],
   "source": [
    "smiley=bytes('😂','utf-8')\n",
    "smiley"
   ]
  },
  {
   "cell_type": "code",
   "execution_count": 21,
   "id": "4cc3bd7a-de93-441e-a8c3-288538334315",
   "metadata": {},
   "outputs": [
    {
     "data": {
      "text/plain": [
       "'😂'"
      ]
     },
     "execution_count": 21,
     "metadata": {},
     "output_type": "execute_result"
    }
   ],
   "source": [
    "smiley.decode('utf-8')"
   ]
  },
  {
   "cell_type": "code",
   "execution_count": 24,
   "id": "7d0d073e-c8e5-4722-8019-dfed7f28a0d0",
   "metadata": {},
   "outputs": [
    {
     "data": {
      "text/plain": [
       "bytearray(b'\\xf0\\x9f\\x98\\x82')"
      ]
     },
     "execution_count": 24,
     "metadata": {},
     "output_type": "execute_result"
    }
   ],
   "source": [
    "smiley=bytearray('😂','utf-8')\n",
    "smiley"
   ]
  },
  {
   "cell_type": "code",
   "execution_count": 25,
   "id": "1aa2c8b4-3bac-4641-a652-8e8e17611def",
   "metadata": {},
   "outputs": [],
   "source": [
    "smiley[3]=int('85',16)"
   ]
  },
  {
   "cell_type": "code",
   "execution_count": 26,
   "id": "499d693a-4ca9-4d8d-b0f9-38f2a6118ae1",
   "metadata": {},
   "outputs": [
    {
     "data": {
      "text/plain": [
       "'😅'"
      ]
     },
     "execution_count": 26,
     "metadata": {},
     "output_type": "execute_result"
    }
   ],
   "source": [
    "smiley.decode('utf-8')"
   ]
  },
  {
   "cell_type": "code",
   "execution_count": 27,
   "id": "c6a3cc82-99ad-4608-bef9-19871a5e2c8b",
   "metadata": {},
   "outputs": [],
   "source": [
    "hexNumbers = {\n",
    "    '0': 0, '1': 1, '2': 2, '3': 3, '4': 4, '5': 5, '6': 6, '7': 7, '8': 8, '9': 9,\n",
    "    'A': 10, 'B': 11, 'C': 12, 'D': 13, 'E': 14, 'F': 15\n",
    "}"
   ]
  },
  {
   "cell_type": "code",
   "execution_count": 31,
   "id": "7c73001b-0ee2-427d-9ab9-28042447266b",
   "metadata": {},
   "outputs": [
    {
     "data": {
      "text/plain": [
       "False"
      ]
     },
     "execution_count": 31,
     "metadata": {},
     "output_type": "execute_result"
    }
   ],
   "source": [
    "11 in hexNumbers"
   ]
  },
  {
   "cell_type": "code",
   "execution_count": null,
   "id": "bfd8faf1-dbc8-4cb0-9946-11cf9b2cd427",
   "metadata": {},
   "outputs": [],
   "source": []
  }
 ],
 "metadata": {
  "kernelspec": {
   "display_name": "Python 3 (ipykernel)",
   "language": "python",
   "name": "python3"
  },
  "language_info": {
   "codemirror_mode": {
    "name": "ipython",
    "version": 3
   },
   "file_extension": ".py",
   "mimetype": "text/x-python",
   "name": "python",
   "nbconvert_exporter": "python",
   "pygments_lexer": "ipython3",
   "version": "3.13.0"
  }
 },
 "nbformat": 4,
 "nbformat_minor": 5
}
