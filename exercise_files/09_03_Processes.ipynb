{
 "cells": [
  {
   "cell_type": "code",
   "execution_count": 1,
   "id": "34fcf0b8",
   "metadata": {},
   "outputs": [],
   "source": [
    "from multiprocess import Process\n",
    "import time\n",
    "import threading"
   ]
  },
  {
   "cell_type": "markdown",
   "id": "b9bc0c6f",
   "metadata": {},
   "source": [
    "## Processes"
   ]
  },
  {
   "cell_type": "code",
   "execution_count": 5,
   "id": "37273e14",
   "metadata": {},
   "outputs": [
    {
     "data": {
      "text/plain": [
       "[None, None, None, None, None, None, None, None, None, None]"
      ]
     },
     "execution_count": 5,
     "metadata": {},
     "output_type": "execute_result"
    }
   ],
   "source": [
    "def longSquare(num, results):\n",
    "    time.sleep(1)\n",
    "    print(num**2)\n",
    "    print('Finished computing!')\n",
    "\n",
    "results = {}\n",
    "processes = [Process(target=longSquare, args=(n,results)) for n in range(0, 10)]\n",
    "[p.start() for p in processes]\n",
    "[p.join() for p in processes]"
   ]
  },
  {
   "cell_type": "code",
   "execution_count": 4,
   "id": "ee636997",
   "metadata": {},
   "outputs": [
    {
     "name": "stdout",
     "output_type": "stream",
     "text": [
      "09\n",
      "Finished computing!\n",
      "4\n",
      "Finished computing!\n",
      "1\n",
      "Finished computing!\n",
      "16\n",
      "Finished computing!\n",
      "25\n",
      "Finished computing!\n",
      "49\n",
      "Finished computing!\n",
      "36\n",
      "Finished computing!\n",
      "64\n",
      "Finished computing!\n",
      "81\n",
      "Finished computing!\n",
      "\n",
      "Finished computing!\n",
      "{}\n"
     ]
    }
   ],
   "source": [
    "results = {}\n",
    "threads = [threading.Thread(target=longSquare, args=(n, results)) for n in range(0, 10)]\n",
    "[t.start() for t in threads]\n",
    "[t.join() for t in threads]\n",
    "print(results)"
   ]
  },
  {
   "cell_type": "code",
   "execution_count": null,
   "id": "129b1aa4",
   "metadata": {},
   "outputs": [],
   "source": []
  }
 ],
 "metadata": {
  "kernelspec": {
   "display_name": "Python 3 (ipykernel)",
   "language": "python",
   "name": "python3"
  },
  "language_info": {
   "codemirror_mode": {
    "name": "ipython",
    "version": 3
   },
   "file_extension": ".py",
   "mimetype": "text/x-python",
   "name": "python",
   "nbconvert_exporter": "python",
   "pygments_lexer": "ipython3",
   "version": "3.13.0"
  }
 },
 "nbformat": 4,
 "nbformat_minor": 5
}
