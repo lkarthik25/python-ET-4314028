{
 "cells": [
  {
   "cell_type": "code",
   "execution_count": 1,
   "id": "936a47f5-f5de-4375-ab1f-4d77ecede6b4",
   "metadata": {},
   "outputs": [],
   "source": [
    "class Dog:\n",
    "    def __init__(self, name):\n",
    "        self.name = name\n",
    "        self.legs = 4\n",
    "    \n",
    "    def speak(self):\n",
    "        print(self.name + ' says: Bark!')\n",
    "myDog=Dog('Rover')"
   ]
  },
  {
   "cell_type": "code",
   "execution_count": 2,
   "id": "d652cc9e-7865-4e94-96c4-bd28c49eb6b9",
   "metadata": {},
   "outputs": [
    {
     "name": "stdout",
     "output_type": "stream",
     "text": [
      "Rover\n",
      "4\n"
     ]
    }
   ],
   "source": [
    "print(myDog.name)\n",
    "print(myDog.legs)"
   ]
  },
  {
   "cell_type": "code",
   "execution_count": 3,
   "id": "44412b16-920a-46a7-b5d2-693636db25ad",
   "metadata": {},
   "outputs": [
    {
     "ename": "AttributeError",
     "evalue": "type object 'Dog' has no attribute 'legs'",
     "output_type": "error",
     "traceback": [
      "\u001b[1;31m---------------------------------------------------------------------------\u001b[0m",
      "\u001b[1;31mAttributeError\u001b[0m                            Traceback (most recent call last)",
      "Cell \u001b[1;32mIn[3], line 1\u001b[0m\n\u001b[1;32m----> 1\u001b[0m \u001b[43mDog\u001b[49m\u001b[38;5;241;43m.\u001b[39;49m\u001b[43mlegs\u001b[49m\n",
      "\u001b[1;31mAttributeError\u001b[0m: type object 'Dog' has no attribute 'legs'"
     ]
    }
   ],
   "source": [
    "Dog.legs"
   ]
  },
  {
   "cell_type": "code",
   "execution_count": 4,
   "id": "7359a45e-71bb-4516-8048-654e254d4638",
   "metadata": {},
   "outputs": [],
   "source": [
    "class Dog:\n",
    "    legs = 4\n",
    "    def __init__(self, name):\n",
    "        self.name = name\n",
    "    \n",
    "    def speak(self):\n",
    "        print(self.name + ' says: Bark!')\n",
    "myDog=Dog('Rover')"
   ]
  },
  {
   "cell_type": "code",
   "execution_count": 5,
   "id": "70cd29b3-5d08-464b-82c1-6bb3de4ab5d2",
   "metadata": {},
   "outputs": [
    {
     "data": {
      "text/plain": [
       "4"
      ]
     },
     "execution_count": 5,
     "metadata": {},
     "output_type": "execute_result"
    }
   ],
   "source": [
    "Dog.legs"
   ]
  },
  {
   "cell_type": "code",
   "execution_count": 6,
   "id": "9fcd46d4-5ade-4dd8-91da-b5c9bab19b8a",
   "metadata": {},
   "outputs": [],
   "source": [
    "Dog.legs=3"
   ]
  },
  {
   "cell_type": "code",
   "execution_count": 7,
   "id": "49c79f5d-fb07-434a-b852-23ea1c2f724c",
   "metadata": {},
   "outputs": [
    {
     "name": "stdout",
     "output_type": "stream",
     "text": [
      "Rover\n",
      "3\n"
     ]
    }
   ],
   "source": [
    "myDog=Dog('Rover')\n",
    "print(myDog.name)\n",
    "print(myDog.legs)"
   ]
  },
  {
   "cell_type": "code",
   "execution_count": 9,
   "id": "65954759-b5ba-446a-9b8f-caacb225a203",
   "metadata": {},
   "outputs": [],
   "source": [
    "class Dog:\n",
    "    _legs = 4\n",
    "    def __init__(self, name):\n",
    "        self.name = name\n",
    "    def getLegs(self):\n",
    "        return self._legs\n",
    "    def speak(self):\n",
    "        print(self.name + ' says: Bark!')"
   ]
  },
  {
   "cell_type": "code",
   "execution_count": 11,
   "id": "bc903478-cdf6-4a99-8480-6035db2547a2",
   "metadata": {},
   "outputs": [
    {
     "name": "stdout",
     "output_type": "stream",
     "text": [
      "Rover\n",
      "4\n"
     ]
    }
   ],
   "source": [
    "myDog=Dog('Rover')\n",
    "print(myDog.name)\n",
    "print(myDog.getLegs())"
   ]
  },
  {
   "cell_type": "code",
   "execution_count": 13,
   "id": "95ee1215-b369-4006-ae2c-9598bc77cbcd",
   "metadata": {},
   "outputs": [
    {
     "name": "stdout",
     "output_type": "stream",
     "text": [
      "3\n"
     ]
    }
   ],
   "source": [
    "myDog._legs=3\n",
    "print(myDog.getLegs())"
   ]
  },
  {
   "cell_type": "code",
   "execution_count": 15,
   "id": "3f1ca714-645f-4ea1-a819-53e950ce9a0a",
   "metadata": {},
   "outputs": [
    {
     "name": "stdout",
     "output_type": "stream",
     "text": [
      "<__main__.Dog object at 0x000001F7ADFDFC50>\n"
     ]
    }
   ],
   "source": [
    "print(myDog)"
   ]
  },
  {
   "cell_type": "code",
   "execution_count": 26,
   "id": "c9a08a76-e26f-4d37-b715-53bfe8931e08",
   "metadata": {},
   "outputs": [],
   "source": [
    "class WordSet:\n",
    "    def __init__(self):\n",
    "        self.words=set()\n",
    "    def addText(self,text):\n",
    "        text=self.cleanText(text)\n",
    "        for word in text.split():\n",
    "            self.words.add(word)            \n",
    "    def cleanText(self,text):\n",
    "        text=text.replace('.','').replace(',','').replace('!','').replace('-','').replace('\\'','').replace(';','')\n",
    "        #print(text)\n",
    "        return text.lower()\n",
    "        \n",
    "wordSet=WordSet()"
   ]
  },
  {
   "cell_type": "code",
   "execution_count": 28,
   "id": "b0e84d6b-1b4c-4257-b327-7de269a6cbbd",
   "metadata": {},
   "outputs": [
    {
     "name": "stdout",
     "output_type": "stream",
     "text": [
      "{'karthik', 'and', 'again', 'too', 'in', 'this', 'hi', 'am', 'i', 'adding', 'is', 'add'}\n"
     ]
    }
   ],
   "source": [
    "wordSet.addText('Hi, This is Karthik and I am adding this in!')\n",
    "wordSet.addText('Karthik again - add this in too!')\n",
    "print(wordSet.words)"
   ]
  },
  {
   "cell_type": "code",
   "execution_count": 33,
   "id": "993ace53-dc80-4d23-add3-877cd61ef69a",
   "metadata": {},
   "outputs": [
    {
     "name": "stdout",
     "output_type": "stream",
     "text": [
      "{'karthik', 'and', 'again', 'too', '-', 'in', 'this', 'hi', 'im', 'adding', 'is', 'add'}\n"
     ]
    }
   ],
   "source": [
    "class WordSet:\n",
    "    replacePuncs=['!','.',',','\\'']\n",
    "    def __init__(self):\n",
    "        self.words=set()\n",
    "    def addText(self,text):\n",
    "        text=WordSet.cleanText(text)\n",
    "        for word in text.split():\n",
    "            self.words.add(word)            \n",
    "    def cleanText(text):\n",
    "        for punc in WordSet.replacePuncs:\n",
    "            text=text.replace(punc,'')\n",
    "        #print(text)\n",
    "        return text.lower()\n",
    "        \n",
    "wordSet=WordSet()\n",
    "wordSet.addText('Hi, This is Karthik and I\\'\\'\\'m adding this in!')\n",
    "wordSet.addText('Karthik again - add this in too!')\n",
    "print(wordSet.words)"
   ]
  },
  {
   "cell_type": "code",
   "execution_count": 34,
   "id": "5d6ce836-b479-47a2-bc6b-9a239b246261",
   "metadata": {},
   "outputs": [
    {
     "name": "stdout",
     "output_type": "stream",
     "text": [
      "{'karthik', 'and', 'again', 'too', '-', 'in', 'this', 'hi', 'im', 'adding', 'is', 'add'}\n"
     ]
    }
   ],
   "source": [
    "class WordSet:\n",
    "    replacePuncs=['!','.',',','\\'']\n",
    "    def __init__(self):\n",
    "        self.words=set()\n",
    "    def addText(self,text):\n",
    "        text=self.cleanText(text)\n",
    "        for word in text.split():\n",
    "            self.words.add(word)\n",
    "    @staticmethod\n",
    "    def cleanText(text):\n",
    "        for punc in WordSet.replacePuncs:\n",
    "            text=text.replace(punc,'')\n",
    "        #print(text)\n",
    "        return text.lower()\n",
    "        \n",
    "wordSet=WordSet()\n",
    "wordSet.addText('Hi, This is Karthik and I\\'\\'\\'m adding this in!')\n",
    "wordSet.addText('Karthik again - add this in too!')\n",
    "print(wordSet.words)"
   ]
  },
  {
   "cell_type": "code",
   "execution_count": 44,
   "id": "7d48b847-f12c-4815-aa22-abe4ef83d71e",
   "metadata": {},
   "outputs": [],
   "source": [
    "class Dog:\n",
    "    _legs = 4\n",
    "    def __init__(self, name):\n",
    "        self.name = name\n",
    "    def getLegs(self):\n",
    "        return self._legs\n",
    "    def speak(self):\n",
    "        print(self.name + ' says: Bark!')\n",
    "class Chihahua(Dog):\n",
    "    def speak(self):\n",
    "        print(self.name + ' says: Yap yap yap!')\n",
    "    def wagTail(self):\n",
    "        print('Wag wag wag!')"
   ]
  },
  {
   "cell_type": "code",
   "execution_count": 45,
   "id": "a73b6bfa-d2fc-4b6b-ac2c-d64eb5ecf0e9",
   "metadata": {},
   "outputs": [],
   "source": [
    "myDog=Chihahua('Roxy')"
   ]
  },
  {
   "cell_type": "code",
   "execution_count": 46,
   "id": "12471352-6563-4344-b094-55ae487a2fcf",
   "metadata": {},
   "outputs": [
    {
     "name": "stdout",
     "output_type": "stream",
     "text": [
      "Roxy says: Yap yap yap!\n",
      "Wag wag wag!\n"
     ]
    }
   ],
   "source": [
    "myDog.speak()\n",
    "myDog.wagTail()"
   ]
  },
  {
   "cell_type": "code",
   "execution_count": 47,
   "id": "0598153c-bbcd-4745-aa0b-c8a38a32d9b5",
   "metadata": {},
   "outputs": [],
   "source": [
    "myList=list()"
   ]
  },
  {
   "cell_type": "code",
   "execution_count": 56,
   "id": "01c145f2-4891-4c99-9200-5faa9a4934ec",
   "metadata": {},
   "outputs": [],
   "source": [
    "class UniqueList(list):\n",
    "    def __init__(self):\n",
    "        super().__init__()\n",
    "        self.property1=1\n",
    "    def append(self,item):\n",
    "        if item in self:\n",
    "            return\n",
    "        super().append(item)"
   ]
  },
  {
   "cell_type": "code",
   "execution_count": 57,
   "id": "ef7afdd2-6f52-407e-b660-9a814bf93ca1",
   "metadata": {},
   "outputs": [],
   "source": [
    "uniqueList=UniqueList()"
   ]
  },
  {
   "cell_type": "code",
   "execution_count": 58,
   "id": "6cf69a99-de22-483c-ac93-66e87d1abb90",
   "metadata": {},
   "outputs": [],
   "source": [
    "uniqueList.append(1)\n",
    "uniqueList.append(1)\n",
    "uniqueList.append(2)"
   ]
  },
  {
   "cell_type": "code",
   "execution_count": 59,
   "id": "175384bc-a540-47f5-a889-ea4af64c031a",
   "metadata": {},
   "outputs": [
    {
     "name": "stdout",
     "output_type": "stream",
     "text": [
      "[1, 2]\n"
     ]
    }
   ],
   "source": [
    "print(uniqueList)"
   ]
  },
  {
   "cell_type": "code",
   "execution_count": 60,
   "id": "eb3b2612-a903-47c2-9bfb-4e954b14ff89",
   "metadata": {},
   "outputs": [
    {
     "ename": "ZeroDivisionError",
     "evalue": "division by zero",
     "output_type": "error",
     "traceback": [
      "\u001b[1;31m---------------------------------------------------------------------------\u001b[0m",
      "\u001b[1;31mZeroDivisionError\u001b[0m                         Traceback (most recent call last)",
      "Cell \u001b[1;32mIn[60], line 1\u001b[0m\n\u001b[1;32m----> 1\u001b[0m \u001b[38;5;241;43m1\u001b[39;49m\u001b[38;5;241;43m/\u001b[39;49m\u001b[38;5;241;43m0\u001b[39;49m\n",
      "\u001b[1;31mZeroDivisionError\u001b[0m: division by zero"
     ]
    }
   ],
   "source": [
    "1/0"
   ]
  },
  {
   "cell_type": "code",
   "execution_count": 61,
   "id": "0ad6017a-9060-4e74-b17c-a5bc85979bde",
   "metadata": {},
   "outputs": [
    {
     "ename": "ZeroDivisionError",
     "evalue": "division by zero",
     "output_type": "error",
     "traceback": [
      "\u001b[1;31m---------------------------------------------------------------------------\u001b[0m",
      "\u001b[1;31mZeroDivisionError\u001b[0m                         Traceback (most recent call last)",
      "Cell \u001b[1;32mIn[61], line 5\u001b[0m\n\u001b[0;32m      3\u001b[0m \u001b[38;5;28;01mdef\u001b[39;00m \u001b[38;5;21mcallCauseError\u001b[39m():\n\u001b[0;32m      4\u001b[0m     \u001b[38;5;28;01mreturn\u001b[39;00m causeError()\n\u001b[1;32m----> 5\u001b[0m \u001b[43mcallCauseError\u001b[49m\u001b[43m(\u001b[49m\u001b[43m)\u001b[49m\n",
      "Cell \u001b[1;32mIn[61], line 4\u001b[0m, in \u001b[0;36mcallCauseError\u001b[1;34m()\u001b[0m\n\u001b[0;32m      3\u001b[0m \u001b[38;5;28;01mdef\u001b[39;00m \u001b[38;5;21mcallCauseError\u001b[39m():\n\u001b[1;32m----> 4\u001b[0m     \u001b[38;5;28;01mreturn\u001b[39;00m \u001b[43mcauseError\u001b[49m\u001b[43m(\u001b[49m\u001b[43m)\u001b[49m\n",
      "Cell \u001b[1;32mIn[61], line 2\u001b[0m, in \u001b[0;36mcauseError\u001b[1;34m()\u001b[0m\n\u001b[0;32m      1\u001b[0m \u001b[38;5;28;01mdef\u001b[39;00m \u001b[38;5;21mcauseError\u001b[39m():\n\u001b[1;32m----> 2\u001b[0m     \u001b[38;5;28;01mreturn\u001b[39;00m \u001b[38;5;241;43m1\u001b[39;49m\u001b[38;5;241;43m/\u001b[39;49m\u001b[38;5;241;43m0\u001b[39;49m\n",
      "\u001b[1;31mZeroDivisionError\u001b[0m: division by zero"
     ]
    }
   ],
   "source": [
    "def causeError():\n",
    "    return 1/0\n",
    "def callCauseError():\n",
    "    return causeError()\n",
    "callCauseError()"
   ]
  },
  {
   "cell_type": "code",
   "execution_count": 62,
   "id": "bbe29f5c-c4b2-4f4d-a061-7f2d8c13dd70",
   "metadata": {},
   "outputs": [
    {
     "name": "stdout",
     "output_type": "stream",
     "text": [
      "<class 'ZeroDivisionError'>\n"
     ]
    }
   ],
   "source": [
    "try:\n",
    "    1/0\n",
    "except Exception as e:\n",
    "    print(type(e))"
   ]
  },
  {
   "cell_type": "code",
   "execution_count": 63,
   "id": "760a5a4e-87ae-4d22-a1bf-b74917dee097",
   "metadata": {},
   "outputs": [
    {
     "data": {
      "text/plain": [
       "ZeroDivisionError('division by zero')"
      ]
     },
     "execution_count": 63,
     "metadata": {},
     "output_type": "execute_result"
    }
   ],
   "source": [
    "def causeError():\n",
    "    try:\n",
    "        1/0\n",
    "    except Exception as e:\n",
    "       return e\n",
    "causeError()"
   ]
  },
  {
   "cell_type": "code",
   "execution_count": 69,
   "id": "1bdd5011-d1d5-4a70-bcbc-76d212c144ed",
   "metadata": {},
   "outputs": [],
   "source": [
    "import time"
   ]
  },
  {
   "cell_type": "code",
   "execution_count": 73,
   "id": "d426cf5c-22b5-4e8c-a8a9-b9da4919153d",
   "metadata": {},
   "outputs": [
    {
     "name": "stdout",
     "output_type": "stream",
     "text": [
      "There is something wrong\n",
      "Runtime is 2.0004225 seconds\n"
     ]
    }
   ],
   "source": [
    "def causeError():\n",
    "    start=time.time()\n",
    "    try:\n",
    "        time.sleep(2)\n",
    "        return 1/0\n",
    "    except Exception:\n",
    "       print('There is something wrong')\n",
    "    finally:\n",
    "        print(f'Runtime is {round(time.time()-start,7)} seconds')\n",
    "causeError()"
   ]
  },
  {
   "cell_type": "code",
   "execution_count": 77,
   "id": "5d620c48-7607-499c-a3fd-02f1f13a129f",
   "metadata": {},
   "outputs": [
    {
     "name": "stdout",
     "output_type": "stream",
     "text": [
      "Different Types\n",
      "Always!\n"
     ]
    }
   ],
   "source": [
    "def causeError():\n",
    "    try:\n",
    "        return '1'+1 and 1/0\n",
    "    except TypeError:\n",
    "        print('Different Types')\n",
    "    except ZeroDivisionError:\n",
    "        print('Can\\'t divide by 0')\n",
    "    except Exception:\n",
    "       print('There is something wrong')\n",
    "    finally:\n",
    "        print('Always!')\n",
    "        #print(f'Runtime is {round(time.time()-start,7)} seconds')\n",
    "causeError()"
   ]
  },
  {
   "cell_type": "code",
   "execution_count": 88,
   "id": "b0f33b80-40e0-4b95-a552-80b40ba53aad",
   "metadata": {},
   "outputs": [
    {
     "name": "stdout",
     "output_type": "stream",
     "text": [
      "Can't divide by 0\n",
      "Always!\n"
     ]
    }
   ],
   "source": [
    "def handleException(func):\n",
    "    def wrapper(*args):\n",
    "        try:\n",
    "            func(*args)\n",
    "        except TypeError:\n",
    "            print('Different Types')\n",
    "        except ZeroDivisionError:\n",
    "            print('Can\\'t divide by 0')\n",
    "        except Exception:\n",
    "           print('There is something else wrong')\n",
    "        finally:\n",
    "            print('Always!')\n",
    "    return wrapper\n",
    "\n",
    "@handleException\n",
    "def causeError():\n",
    "    return 1/0\n",
    "\n",
    "causeError()"
   ]
  },
  {
   "cell_type": "code",
   "execution_count": 91,
   "id": "620d24db-4425-4e09-9214-8721fb963b2a",
   "metadata": {},
   "outputs": [
    {
     "name": "stdout",
     "output_type": "stream",
     "text": [
      "1\n",
      "Always!\n"
     ]
    }
   ],
   "source": [
    "@handleException\n",
    "def raiseError(num):\n",
    "    if num==0:\n",
    "        raise Exception()\n",
    "    print(num)\n",
    "raiseError(1)"
   ]
  },
  {
   "cell_type": "code",
   "execution_count": 94,
   "id": "aa4f0ea4-edb9-4c3a-97a4-9928f6a6d9da",
   "metadata": {},
   "outputs": [
    {
     "ename": "CustomException",
     "evalue": "Custom Exception called!",
     "output_type": "error",
     "traceback": [
      "\u001b[1;31m---------------------------------------------------------------------------\u001b[0m",
      "\u001b[1;31mCustomException\u001b[0m                           Traceback (most recent call last)",
      "Cell \u001b[1;32mIn[94], line 7\u001b[0m\n\u001b[0;32m      5\u001b[0m         \u001b[38;5;28;01mraise\u001b[39;00m CustomException(\u001b[38;5;124m'\u001b[39m\u001b[38;5;124mCustom Exception called!\u001b[39m\u001b[38;5;124m'\u001b[39m)\n\u001b[0;32m      6\u001b[0m     \u001b[38;5;28mprint\u001b[39m(num)\n\u001b[1;32m----> 7\u001b[0m \u001b[43mraiseError\u001b[49m\u001b[43m(\u001b[49m\u001b[38;5;241;43m0\u001b[39;49m\u001b[43m)\u001b[49m\n",
      "Cell \u001b[1;32mIn[94], line 5\u001b[0m, in \u001b[0;36mraiseError\u001b[1;34m(num)\u001b[0m\n\u001b[0;32m      3\u001b[0m \u001b[38;5;28;01mdef\u001b[39;00m \u001b[38;5;21mraiseError\u001b[39m(num):\n\u001b[0;32m      4\u001b[0m     \u001b[38;5;28;01mif\u001b[39;00m num\u001b[38;5;241m==\u001b[39m\u001b[38;5;241m0\u001b[39m:\n\u001b[1;32m----> 5\u001b[0m         \u001b[38;5;28;01mraise\u001b[39;00m CustomException(\u001b[38;5;124m'\u001b[39m\u001b[38;5;124mCustom Exception called!\u001b[39m\u001b[38;5;124m'\u001b[39m)\n\u001b[0;32m      6\u001b[0m     \u001b[38;5;28mprint\u001b[39m(num)\n",
      "\u001b[1;31mCustomException\u001b[0m: Custom Exception called!"
     ]
    }
   ],
   "source": [
    "class CustomException(Exception):\n",
    "    pass\n",
    "def raiseError(num):\n",
    "    if num==0:\n",
    "        raise CustomException('Custom Exception called!')\n",
    "    print(num)\n",
    "raiseError(0)"
   ]
  },
  {
   "cell_type": "code",
   "execution_count": 95,
   "id": "c27f68f4-8896-40f8-88ce-70b23e5fb937",
   "metadata": {},
   "outputs": [
    {
     "ename": "serverError",
     "evalue": "Status: 500 - Server Unavailable",
     "output_type": "error",
     "traceback": [
      "\u001b[1;31m---------------------------------------------------------------------------\u001b[0m",
      "\u001b[1;31mserverError\u001b[0m                               Traceback (most recent call last)",
      "Cell \u001b[1;32mIn[95], line 14\u001b[0m\n\u001b[0;32m     12\u001b[0m \u001b[38;5;28;01mdef\u001b[39;00m \u001b[38;5;21mraiseServerError\u001b[39m():\n\u001b[0;32m     13\u001b[0m     \u001b[38;5;28;01mraise\u001b[39;00m serverError()\n\u001b[1;32m---> 14\u001b[0m \u001b[43mraiseServerError\u001b[49m\u001b[43m(\u001b[49m\u001b[43m)\u001b[49m\n",
      "Cell \u001b[1;32mIn[95], line 13\u001b[0m, in \u001b[0;36mraiseServerError\u001b[1;34m()\u001b[0m\n\u001b[0;32m     12\u001b[0m \u001b[38;5;28;01mdef\u001b[39;00m \u001b[38;5;21mraiseServerError\u001b[39m():\n\u001b[1;32m---> 13\u001b[0m     \u001b[38;5;28;01mraise\u001b[39;00m serverError()\n",
      "\u001b[1;31mserverError\u001b[0m: Status: 500 - Server Unavailable"
     ]
    }
   ],
   "source": [
    "class HttpException(Exception):\n",
    "    statusCode=None\n",
    "    message=None\n",
    "    def __init__(self):\n",
    "        super().__init__(f'Status: {self.statusCode} - {self.message}')\n",
    "class Notfound(HttpException):\n",
    "    statusCode= 404\n",
    "    message= 'Resource Not Found'\n",
    "class serverError(HttpException):\n",
    "    statusCode= 500\n",
    "    message= 'Server Unavailable'\n",
    "def raiseServerError():\n",
    "    raise serverError()\n",
    "raiseServerError()\n",
    "        "
   ]
  },
  {
   "cell_type": "code",
   "execution_count": 96,
   "id": "9c4791de-0d2d-45bc-a297-5706b1f7a59c",
   "metadata": {},
   "outputs": [],
   "source": [
    "import threading\n",
    "import time"
   ]
  },
  {
   "cell_type": "code",
   "execution_count": 97,
   "id": "8978bfdb-91c0-4f49-b3b0-97a5dc21bac3",
   "metadata": {},
   "outputs": [
    {
     "data": {
      "text/plain": [
       "[1, 4, 9, 16, 25]"
      ]
     },
     "execution_count": 97,
     "metadata": {},
     "output_type": "execute_result"
    }
   ],
   "source": [
    "def longSquare(num):\n",
    "    time.sleep(1)\n",
    "    return num**2\n",
    "[longSquare(n) for n in [1,2,3,4,5]]"
   ]
  },
  {
   "cell_type": "code",
   "execution_count": 98,
   "id": "de2ca979-edb8-4143-8cc7-0958c2661220",
   "metadata": {},
   "outputs": [],
   "source": [
    "t1=threading.Thread(target=longSquare, args=(1,))\n",
    "t2=threading.Thread(target=longSquare, args=(2,))\n",
    "t1.start()\n",
    "t2.start()\n",
    "\n",
    "t1.join()\n",
    "t2.join()"
   ]
  },
  {
   "cell_type": "code",
   "execution_count": 100,
   "id": "85b4cd7d-9435-4355-9d64-3136fd8ffc34",
   "metadata": {},
   "outputs": [
    {
     "name": "stdout",
     "output_type": "stream",
     "text": [
      "{1: 1, 2: 4}\n"
     ]
    }
   ],
   "source": [
    "def longSquare(num,results):\n",
    "    time.sleep(1)\n",
    "    results[num]=num**2\n",
    "\n",
    "results={}\n",
    "t1=threading.Thread(target=longSquare, args=(1,results))\n",
    "t2=threading.Thread(target=longSquare, args=(2,results))\n",
    "\n",
    "t1.start()\n",
    "t2.start()\n",
    "\n",
    "t1.join()\n",
    "t2.join()\n",
    "\n",
    "print(results)"
   ]
  },
  {
   "cell_type": "code",
   "execution_count": 127,
   "id": "97bc1a3b-e9cb-4cd2-86a4-424cc7cfb79f",
   "metadata": {},
   "outputs": [
    {
     "name": "stdout",
     "output_type": "stream",
     "text": [
      "[(0, 0), (1, 1), (2, 4), (3, 9), (4, 16), (5, 25), (6, 36), (7, 49), (8, 64), (9, 81), (10, 100), (11, 121), (12, 144), (13, 169), (14, 196), (15, 225), (16, 256), (17, 289), (18, 324), (19, 361), (20, 400), (21, 441), (22, 484), (23, 529), (24, 576), (25, 625), (26, 676), (27, 729), (28, 784), (29, 841), (30, 900), (31, 961), (32, 1024), (33, 1089), (34, 1156), (35, 1225), (36, 1296), (37, 1369), (38, 1444), (39, 1521), (40, 1600), (41, 1681), (42, 1764), (43, 1849), (44, 1936), (45, 2025), (46, 2116), (47, 2209), (48, 2304), (49, 2401), (50, 2500), (51, 2601), (52, 2704), (53, 2809), (54, 2916), (55, 3025), (56, 3136), (57, 3249), (58, 3364), (59, 3481), (60, 3600), (61, 3721), (62, 3844), (63, 3969), (64, 4096), (65, 4225), (66, 4356), (67, 4489), (68, 4624), (69, 4761), (70, 4900), (71, 5041), (72, 5184), (73, 5329), (74, 5476), (75, 5625), (76, 5776), (77, 5929), (78, 6084), (79, 6241), (80, 6400), (81, 6561), (82, 6724), (83, 6889), (84, 7056), (85, 7225), (86, 7396), (87, 7569), (88, 7744), (89, 7921), (90, 8100), (91, 8281), (92, 8464), (93, 8649), (94, 8836), (95, 9025), (96, 9216), (97, 9409), (98, 9604), (99, 9801)]\n"
     ]
    }
   ],
   "source": [
    "def longSquare(num,results):\n",
    "    time.sleep(1)\n",
    "    results[num]=num**2\n",
    "\n",
    "results={}\n",
    "threads=[threading.Thread(target=longSquare, args=[n,results]) for n in range(0,100)]\n",
    "\n",
    "[t.start() for t in threads]\n",
    "\n",
    "[t.join() for t in threads]\n",
    "\n",
    "print(sorted(results.items(),key=lambda x : x[0]))"
   ]
  },
  {
   "cell_type": "code",
   "execution_count": 21,
   "id": "fcbd8091-067c-41f7-ad4b-b10dbd4c2589",
   "metadata": {},
   "outputs": [],
   "source": [
    "from multiprocess import Process\n",
    "import time\n",
    "import threading"
   ]
  },
  {
   "cell_type": "code",
   "execution_count": 22,
   "id": "4aa6f38b-8110-4b00-b71c-8e7f9e364e0f",
   "metadata": {},
   "outputs": [
    {
     "name": "stdout",
     "output_type": "stream",
     "text": [
      "{}\n"
     ]
    }
   ],
   "source": [
    "def longSquare(num,results):\n",
    "    #time.sleep(1)\n",
    "    print(num**2)\n",
    "    print('Finished Computing')\n",
    "\n",
    "results={}\n",
    "p1=Process(target=longSquare, args=(1,results))\n",
    "p2=Process(target=longSquare, args=(2,results))\n",
    "\n",
    "p1.start()\n",
    "p2.start()\n",
    "\n",
    "p1.join()\n",
    "p2.join()\n",
    "\n",
    "print(results)"
   ]
  },
  {
   "cell_type": "code",
   "execution_count": 24,
   "id": "68b978f2-9700-4159-873c-90a8bb9ee7e9",
   "metadata": {},
   "outputs": [
    {
     "data": {
      "text/plain": [
       "[None, None, None, None, None, None, None, None, None, None]"
      ]
     },
     "execution_count": 24,
     "metadata": {},
     "output_type": "execute_result"
    }
   ],
   "source": [
    "processes=[Process(target=longSquare, args=(n,results)) for n in range(0,10)]\n",
    "\n",
    "[p.start() for p in processes]\n",
    "[p.join() for p in processes]"
   ]
  },
  {
   "cell_type": "code",
   "execution_count": 26,
   "id": "44881bd2-f80a-483f-a301-a7ce4888412a",
   "metadata": {},
   "outputs": [
    {
     "name": "stdout",
     "output_type": "stream",
     "text": [
      "0\n",
      "Finished Computing\n",
      "1\n",
      "Finished Computing\n",
      "4\n",
      "Finished Computing\n",
      "9\n",
      "Finished Computing\n",
      "16\n",
      "Finished Computing\n",
      "25\n",
      "Finished Computing\n",
      "36\n",
      "Finished Computing\n",
      "49\n",
      "Finished Computing\n",
      "64\n",
      "Finished Computing\n",
      "81\n",
      "Finished Computing\n"
     ]
    },
    {
     "data": {
      "text/plain": [
       "[None, None, None, None, None, None, None, None, None, None]"
      ]
     },
     "execution_count": 26,
     "metadata": {},
     "output_type": "execute_result"
    }
   ],
   "source": [
    "threads=[threading.Thread(target=longSquare, args=[n,results]) for n in range(0,10)]\n",
    "\n",
    "[t.start() for t in threads]\n",
    "\n",
    "[t.join() for t in threads]"
   ]
  },
  {
   "cell_type": "code",
   "execution_count": null,
   "id": "35bdae53-f3b0-459b-99fa-3657b4a1eb08",
   "metadata": {},
   "outputs": [],
   "source": []
  }
 ],
 "metadata": {
  "kernelspec": {
   "display_name": "Python 3 (ipykernel)",
   "language": "python",
   "name": "python3"
  },
  "language_info": {
   "codemirror_mode": {
    "name": "ipython",
    "version": 3
   },
   "file_extension": ".py",
   "mimetype": "text/x-python",
   "name": "python",
   "nbconvert_exporter": "python",
   "pygments_lexer": "ipython3",
   "version": "3.13.0"
  }
 },
 "nbformat": 4,
 "nbformat_minor": 5
}
