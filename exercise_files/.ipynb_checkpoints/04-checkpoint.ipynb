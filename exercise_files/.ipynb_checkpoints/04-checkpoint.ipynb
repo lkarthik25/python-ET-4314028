{
 "cells": [
  {
   "cell_type": "code",
   "execution_count": 46,
   "id": "008ad54e-cca9-46c5-a096-f8b887766231",
   "metadata": {},
   "outputs": [],
   "source": [
    "from collections import defaultdict"
   ]
  },
  {
   "cell_type": "code",
   "execution_count": 1,
   "id": "564fbe90-1356-45cd-9475-331be1545233",
   "metadata": {},
   "outputs": [],
   "source": [
    "myList=list(range(20))"
   ]
  },
  {
   "cell_type": "code",
   "execution_count": 3,
   "id": "b8e9d5bc-28bd-4848-8f19-4497e9f7dee1",
   "metadata": {},
   "outputs": [
    {
     "data": {
      "text/plain": [
       "[0, 1, 2, 3, 4, 5, 6, 7, 8, 9, 10, 11, 12, 13, 14, 15, 16, 17, 18, 19]"
      ]
     },
     "execution_count": 3,
     "metadata": {},
     "output_type": "execute_result"
    }
   ],
   "source": [
    "myList"
   ]
  },
  {
   "cell_type": "code",
   "execution_count": 4,
   "id": "141fa0da-8e53-43ee-8991-76b87ef15899",
   "metadata": {},
   "outputs": [
    {
     "data": {
      "text/plain": [
       "19"
      ]
     },
     "execution_count": 4,
     "metadata": {},
     "output_type": "execute_result"
    }
   ],
   "source": [
    "myList[-1]"
   ]
  },
  {
   "cell_type": "code",
   "execution_count": 5,
   "id": "3575d8d8-b381-4a61-839f-5a8318286877",
   "metadata": {},
   "outputs": [
    {
     "data": {
      "text/plain": [
       "[15, 16, 17, 18, 19]"
      ]
     },
     "execution_count": 5,
     "metadata": {},
     "output_type": "execute_result"
    }
   ],
   "source": [
    "myList[-5:]"
   ]
  },
  {
   "cell_type": "code",
   "execution_count": 6,
   "id": "f5fcf67b-76ee-47f4-a997-3ce757031cd0",
   "metadata": {},
   "outputs": [
    {
     "data": {
      "text/plain": [
       "[10, 8, 6, 4, 2, 0]"
      ]
     },
     "execution_count": 6,
     "metadata": {},
     "output_type": "execute_result"
    }
   ],
   "source": [
    "myList[-10::-2]"
   ]
  },
  {
   "cell_type": "code",
   "execution_count": 8,
   "id": "0a5302fb-4d8c-4411-aeb9-5436cc74720e",
   "metadata": {},
   "outputs": [
    {
     "ename": "IndexError",
     "evalue": "list index out of range",
     "output_type": "error",
     "traceback": [
      "\u001b[1;31m---------------------------------------------------------------------------\u001b[0m",
      "\u001b[1;31mIndexError\u001b[0m                                Traceback (most recent call last)",
      "Cell \u001b[1;32mIn[8], line 1\u001b[0m\n\u001b[1;32m----> 1\u001b[0m \u001b[43mmyList\u001b[49m\u001b[43m[\u001b[49m\u001b[38;5;241;43m20\u001b[39;49m\u001b[43m]\u001b[49m\n",
      "\u001b[1;31mIndexError\u001b[0m: list index out of range"
     ]
    }
   ],
   "source": [
    "myList[20]"
   ]
  },
  {
   "cell_type": "code",
   "execution_count": 9,
   "id": "ede9f183-c228-4ad7-a364-748026eba2c8",
   "metadata": {},
   "outputs": [],
   "source": [
    "myList=[0, 1, 2, 3, 4]"
   ]
  },
  {
   "cell_type": "code",
   "execution_count": 10,
   "id": "6b53198d-fdf1-419b-91ce-914d89b61825",
   "metadata": {},
   "outputs": [
    {
     "name": "stdout",
     "output_type": "stream",
     "text": [
      "[0, 1, 2, 3, 4, 5]\n"
     ]
    }
   ],
   "source": [
    "myList.append(5)\n",
    "print(myList)"
   ]
  },
  {
   "cell_type": "code",
   "execution_count": 11,
   "id": "f71a6bde-6e52-496f-ae28-6f6a9fe06078",
   "metadata": {},
   "outputs": [
    {
     "name": "stdout",
     "output_type": "stream",
     "text": [
      "[0, 1, 2, 2.5, 3, 4, 5]\n"
     ]
    }
   ],
   "source": [
    "myList.insert(3,2.5)\n",
    "print(myList)"
   ]
  },
  {
   "cell_type": "code",
   "execution_count": 13,
   "id": "e823fa2c-0ad6-4c17-90fd-f500cea7c6e9",
   "metadata": {},
   "outputs": [
    {
     "ename": "ValueError",
     "evalue": "list.remove(x): x not in list",
     "output_type": "error",
     "traceback": [
      "\u001b[1;31m---------------------------------------------------------------------------\u001b[0m",
      "\u001b[1;31mValueError\u001b[0m                                Traceback (most recent call last)",
      "Cell \u001b[1;32mIn[13], line 1\u001b[0m\n\u001b[1;32m----> 1\u001b[0m \u001b[43mmyList\u001b[49m\u001b[38;5;241;43m.\u001b[39;49m\u001b[43mremove\u001b[49m\u001b[43m(\u001b[49m\u001b[38;5;241;43m2.5\u001b[39;49m\u001b[43m)\u001b[49m\n\u001b[0;32m      2\u001b[0m \u001b[38;5;28mprint\u001b[39m(myList)\n",
      "\u001b[1;31mValueError\u001b[0m: list.remove(x): x not in list"
     ]
    }
   ],
   "source": [
    "myList.remove(2.5)\n",
    "print(myList)"
   ]
  },
  {
   "cell_type": "code",
   "execution_count": 14,
   "id": "a0500ba3-f33e-44af-b22f-0bc25d99bd09",
   "metadata": {},
   "outputs": [
    {
     "data": {
      "text/plain": [
       "5"
      ]
     },
     "execution_count": 14,
     "metadata": {},
     "output_type": "execute_result"
    }
   ],
   "source": [
    "myList.pop()"
   ]
  },
  {
   "cell_type": "code",
   "execution_count": 18,
   "id": "596d5066-f765-43fb-820c-978fbae60340",
   "metadata": {},
   "outputs": [
    {
     "name": "stdout",
     "output_type": "stream",
     "text": [
      "[1, 2]\n"
     ]
    }
   ],
   "source": [
    "a=[1,2]\n",
    "b=a.copy()\n",
    "a=a.append(3)\n",
    "print(b)"
   ]
  },
  {
   "cell_type": "markdown",
   "id": "1771e448-dc6a-4445-9960-bed7affbc8f2",
   "metadata": {},
   "source": [
    "# Sets"
   ]
  },
  {
   "cell_type": "code",
   "execution_count": 19,
   "id": "4e63ab33-a8aa-4548-9d0e-39b485f6742d",
   "metadata": {},
   "outputs": [],
   "source": [
    "mySet={1,2,3}"
   ]
  },
  {
   "cell_type": "code",
   "execution_count": 20,
   "id": "5bad050b-e2d9-4007-ab03-f158560f9d67",
   "metadata": {},
   "outputs": [
    {
     "data": {
      "text/plain": [
       "[1, 2, 3, 4]"
      ]
     },
     "execution_count": 20,
     "metadata": {},
     "output_type": "execute_result"
    }
   ],
   "source": [
    "myList=[1,1,2,3,4]\n",
    "myList=list(set(myList))\n",
    "myList"
   ]
  },
  {
   "cell_type": "code",
   "execution_count": 21,
   "id": "d91c2c90-2819-49f7-a90b-6e928223c4ad",
   "metadata": {},
   "outputs": [],
   "source": [
    "mySet.add(10)"
   ]
  },
  {
   "cell_type": "code",
   "execution_count": 22,
   "id": "0902dbb0-bd52-4601-b2c5-1e283dc76a26",
   "metadata": {},
   "outputs": [
    {
     "data": {
      "text/plain": [
       "{1, 2, 3, 10}"
      ]
     },
     "execution_count": 22,
     "metadata": {},
     "output_type": "execute_result"
    }
   ],
   "source": [
    "mySet"
   ]
  },
  {
   "cell_type": "code",
   "execution_count": 23,
   "id": "cfc45164-3dd1-4795-bf5e-dc01a6d87423",
   "metadata": {},
   "outputs": [
    {
     "data": {
      "text/plain": [
       "True"
      ]
     },
     "execution_count": 23,
     "metadata": {},
     "output_type": "execute_result"
    }
   ],
   "source": [
    "1 in mySet"
   ]
  },
  {
   "cell_type": "code",
   "execution_count": 25,
   "id": "0d9034a8-cf75-4347-abd1-7262786c6f20",
   "metadata": {},
   "outputs": [],
   "source": [
    "mySet.discard(1)"
   ]
  },
  {
   "cell_type": "code",
   "execution_count": 26,
   "id": "8a5f42c0-589f-4ef7-a4e8-b4d5306d6929",
   "metadata": {},
   "outputs": [
    {
     "data": {
      "text/plain": [
       "{2, 3, 10}"
      ]
     },
     "execution_count": 26,
     "metadata": {},
     "output_type": "execute_result"
    }
   ],
   "source": [
    "mySet"
   ]
  },
  {
   "cell_type": "code",
   "execution_count": 27,
   "id": "6d97168b-764c-456d-9a1b-dbe349d2a961",
   "metadata": {},
   "outputs": [],
   "source": [
    "myTuple=(1,2,34)"
   ]
  },
  {
   "cell_type": "code",
   "execution_count": 28,
   "id": "4efe3203-503c-4476-b197-fada4196d43c",
   "metadata": {},
   "outputs": [],
   "source": [
    "def retMult():\n",
    "    return 1,2,3"
   ]
  },
  {
   "cell_type": "code",
   "execution_count": 30,
   "id": "87639730-30e4-471c-8054-a07187d897a2",
   "metadata": {},
   "outputs": [
    {
     "data": {
      "text/plain": [
       "tuple"
      ]
     },
     "execution_count": 30,
     "metadata": {},
     "output_type": "execute_result"
    }
   ],
   "source": [
    "type(retMult())"
   ]
  },
  {
   "cell_type": "code",
   "execution_count": 31,
   "id": "ab5adee8-58cb-4e7b-af7f-1e2354934746",
   "metadata": {},
   "outputs": [],
   "source": [
    "myTuple=1,2,34"
   ]
  },
  {
   "cell_type": "code",
   "execution_count": 32,
   "id": "f33076bf-282f-44e9-a62c-a57b2cc0f2f7",
   "metadata": {},
   "outputs": [],
   "source": [
    "a,b,c=retMult()"
   ]
  },
  {
   "cell_type": "code",
   "execution_count": 33,
   "id": "46e55626-073b-482d-bc2e-a34681ab9f31",
   "metadata": {},
   "outputs": [
    {
     "name": "stdout",
     "output_type": "stream",
     "text": [
      "1\n"
     ]
    }
   ],
   "source": [
    "print(a)"
   ]
  },
  {
   "cell_type": "code",
   "execution_count": 34,
   "id": "a4d19e9a-6a15-469b-aed1-3448f0dfd4c8",
   "metadata": {},
   "outputs": [],
   "source": [
    "animals=(1,2,3,)"
   ]
  },
  {
   "cell_type": "code",
   "execution_count": 37,
   "id": "dcb7ec04-8d5d-44fb-889b-bd9c6307dac8",
   "metadata": {},
   "outputs": [
    {
     "data": {
      "text/plain": [
       "{'a': 1, 'b': 2, 'c': 3}"
      ]
     },
     "execution_count": 37,
     "metadata": {},
     "output_type": "execute_result"
    }
   ],
   "source": [
    "animals={\n",
    "    'a':1,\n",
    "    'b':2,\n",
    "    'c':3,\n",
    "}\n",
    "animals"
   ]
  },
  {
   "cell_type": "code",
   "execution_count": 38,
   "id": "f8dda229-b21e-4da2-89f3-79fc73c30b0e",
   "metadata": {},
   "outputs": [
    {
     "data": {
      "text/plain": [
       "{'a': 1, 'b': 2, 'c': 3, 'd': 4}"
      ]
     },
     "execution_count": 38,
     "metadata": {},
     "output_type": "execute_result"
    }
   ],
   "source": [
    "animals['d']=4\n",
    "animals"
   ]
  },
  {
   "cell_type": "code",
   "execution_count": 39,
   "id": "0a93a30d-4fce-4c87-825f-f1eebda97cdd",
   "metadata": {},
   "outputs": [
    {
     "data": {
      "text/plain": [
       "dict_keys(['a', 'b', 'c', 'd'])"
      ]
     },
     "execution_count": 39,
     "metadata": {},
     "output_type": "execute_result"
    }
   ],
   "source": [
    "animals.keys()"
   ]
  },
  {
   "cell_type": "code",
   "execution_count": 40,
   "id": "377b127a-2d67-415e-a2a9-f1b45d39eb39",
   "metadata": {},
   "outputs": [],
   "source": [
    "animals.get('e')"
   ]
  },
  {
   "cell_type": "code",
   "execution_count": 42,
   "id": "0e21d3e7-4dc6-4012-ade0-98cd8a2c5d90",
   "metadata": {},
   "outputs": [
    {
     "data": {
      "text/plain": [
       "{'a': [1], 'b': [2]}"
      ]
     },
     "execution_count": 42,
     "metadata": {},
     "output_type": "execute_result"
    }
   ],
   "source": [
    "animals={\n",
    "    'a':[1],\n",
    "    'b':[2],\n",
    "}\n",
    "animals"
   ]
  },
  {
   "cell_type": "code",
   "execution_count": 43,
   "id": "3b182c83-780c-4363-85dc-7210ef68d285",
   "metadata": {},
   "outputs": [],
   "source": [
    "animals['b'].append(2.25)"
   ]
  },
  {
   "cell_type": "code",
   "execution_count": 44,
   "id": "6dbcf0ce-8b4d-418c-a950-d4f6060f0f2b",
   "metadata": {},
   "outputs": [
    {
     "data": {
      "text/plain": [
       "{'a': [1], 'b': [2, 2.25], 'c': [3]}"
      ]
     },
     "execution_count": 44,
     "metadata": {},
     "output_type": "execute_result"
    }
   ],
   "source": [
    "animals['c']=[3]\n",
    "animals"
   ]
  },
  {
   "cell_type": "code",
   "execution_count": 45,
   "id": "ddf9916f-33d3-4a8b-9647-a57168835a55",
   "metadata": {},
   "outputs": [
    {
     "data": {
      "text/plain": [
       "{'a': [1], 'b': [2, 2.25], 'c': [3], 'd': [4]}"
      ]
     },
     "execution_count": 45,
     "metadata": {},
     "output_type": "execute_result"
    }
   ],
   "source": [
    "if 'd' not in animals:\n",
    "    animals['d']=[]\n",
    "animals['d'].append(4)\n",
    "animals"
   ]
  },
  {
   "cell_type": "markdown",
   "id": "a497df12-3ed2-4f48-abc2-16fda769341d",
   "metadata": {},
   "source": [
    "# Defalut Dict"
   ]
  },
  {
   "cell_type": "code",
   "execution_count": 47,
   "id": "f555ad71-455c-4268-8398-e5e1a765f417",
   "metadata": {},
   "outputs": [],
   "source": [
    "animals=defaultdict(list)"
   ]
  },
  {
   "cell_type": "code",
   "execution_count": 48,
   "id": "5cfeced7-39ec-48bc-bcc8-a1fc1f317175",
   "metadata": {},
   "outputs": [
    {
     "data": {
      "text/plain": [
       "defaultdict(list, {})"
      ]
     },
     "execution_count": 48,
     "metadata": {},
     "output_type": "execute_result"
    }
   ],
   "source": [
    "animals"
   ]
  },
  {
   "cell_type": "code",
   "execution_count": 49,
   "id": "38b571ed-826d-469b-a09c-c033574cf3a5",
   "metadata": {},
   "outputs": [],
   "source": [
    "animals['e'].append(5)"
   ]
  },
  {
   "cell_type": "code",
   "execution_count": 50,
   "id": "c2568bfb-f4d6-47f1-a34c-05cc4eb71aa0",
   "metadata": {},
   "outputs": [
    {
     "data": {
      "text/plain": [
       "defaultdict(list, {'e': [5, 5.5]})"
      ]
     },
     "execution_count": 50,
     "metadata": {},
     "output_type": "execute_result"
    }
   ],
   "source": [
    "animals['e'].append(5.5)\n",
    "animals"
   ]
  },
  {
   "cell_type": "markdown",
   "id": "229b6f68-04b4-4bad-833b-d14d659ffb1f",
   "metadata": {},
   "source": [
    "# List Comprehension"
   ]
  },
  {
   "cell_type": "code",
   "execution_count": 51,
   "id": "78de9b3a-8bc6-4eab-9120-7598e7ea5431",
   "metadata": {},
   "outputs": [
    {
     "data": {
      "text/plain": [
       "[2, 4, 6, 8, 10]"
      ]
     },
     "execution_count": 51,
     "metadata": {},
     "output_type": "execute_result"
    }
   ],
   "source": [
    "myList=[1,2,3,4,5]\n",
    "[2*item for item in myList]"
   ]
  },
  {
   "cell_type": "markdown",
   "id": "5b43636d-eb0c-4ca5-af35-2771591ecaa7",
   "metadata": {},
   "source": [
    "## List Comprehension with filters"
   ]
  },
  {
   "cell_type": "code",
   "execution_count": 52,
   "id": "973677db-b642-4607-b42e-56d06020a281",
   "metadata": {},
   "outputs": [],
   "source": [
    "myList=list(range(100))"
   ]
  },
  {
   "cell_type": "code",
   "execution_count": 54,
   "id": "eccc1961-92de-4080-a21d-b64b77f7f8ab",
   "metadata": {},
   "outputs": [
    {
     "data": {
      "text/plain": [
       "[0, 10, 20, 30, 40, 50, 60, 70, 80, 90]"
      ]
     },
     "execution_count": 54,
     "metadata": {},
     "output_type": "execute_result"
    }
   ],
   "source": [
    "filtered=[item for item in myList if item%10==0]\n",
    "filtered"
   ]
  },
  {
   "cell_type": "code",
   "execution_count": 56,
   "id": "de12f9fa-26f4-4173-adf1-69e55aee4c61",
   "metadata": {},
   "outputs": [
    {
     "name": "stdout",
     "output_type": "stream",
     "text": [
      "[0, 1, 2, 10, 11, 12, 20, 21, 22, 30, 31, 32, 40, 41, 42, 50, 51, 52, 60, 61, 62, 70, 71, 72, 80, 81, 82, 90, 91, 92]\n"
     ]
    }
   ],
   "source": [
    "filtered=[item for item in myList if item%10<=2]\n",
    "print(filtered)"
   ]
  },
  {
   "cell_type": "markdown",
   "id": "4bbc49dc-5b5f-47d7-be75-6c9b91e36451",
   "metadata": {},
   "source": [
    "## List Comprehension with function\n"
   ]
  },
  {
   "cell_type": "code",
   "execution_count": 58,
   "id": "a0d5d5c0-843d-4a9d-b1f1-940f1b5f3c36",
   "metadata": {},
   "outputs": [
    {
     "data": {
      "text/plain": [
       "['My name is Karthik', ' I live in Toronto']"
      ]
     },
     "execution_count": 58,
     "metadata": {},
     "output_type": "execute_result"
    }
   ],
   "source": [
    "myString='My name is Karthik. I live in Toronto'\n",
    "myString.split('.')"
   ]
  },
  {
   "cell_type": "code",
   "execution_count": 59,
   "id": "cc4a97da-8e2e-406c-9f51-2057f4b24b08",
   "metadata": {},
   "outputs": [
    {
     "data": {
      "text/plain": [
       "['My', 'name', 'is', 'Karthik.', 'I', 'live', 'in', 'Toronto']"
      ]
     },
     "execution_count": 59,
     "metadata": {},
     "output_type": "execute_result"
    }
   ],
   "source": [
    "myString.split()"
   ]
  },
  {
   "cell_type": "code",
   "execution_count": 67,
   "id": "48021f28-2474-4575-b359-eb842ba63214",
   "metadata": {},
   "outputs": [],
   "source": [
    "def clean(word):\n",
    "    return word.replace('.','').lower()"
   ]
  },
  {
   "cell_type": "code",
   "execution_count": 68,
   "id": "29c4d07c-b4a5-43d8-b165-dfb9506d96c7",
   "metadata": {},
   "outputs": [
    {
     "data": {
      "text/plain": [
       "['name', 'karthik', 'live', 'toronto']"
      ]
     },
     "execution_count": 68,
     "metadata": {},
     "output_type": "execute_result"
    }
   ],
   "source": [
    "[clean(word) for word in myString.split() if len(word) > 2]"
   ]
  },
  {
   "cell_type": "code",
   "execution_count": 71,
   "id": "9fdeca2c-bc15-4095-a0e5-b0088c2f9da6",
   "metadata": {},
   "outputs": [
    {
     "data": {
      "text/plain": [
       "[['my', 'name', 'is', 'karthik'], ['i', 'live', 'in', 'toronto']]"
      ]
     },
     "execution_count": 71,
     "metadata": {},
     "output_type": "execute_result"
    }
   ],
   "source": [
    "[[clean(word) for word in sentence.split()] for sentence in myString.split('.')]"
   ]
  },
  {
   "cell_type": "code",
   "execution_count": 78,
   "id": "9fc1a6fc-b543-4a83-baf6-5cc0d3b94e90",
   "metadata": {},
   "outputs": [
    {
     "name": "stdout",
     "output_type": "stream",
     "text": [
      "{'v', 'y', 'e', ' ', 'M', 'a', 'h', 'o', 't', 'n', 'r', 'K', 's', '.', 'k', 'm', 'i', 'I', 'T', 'l'}\n"
     ]
    }
   ],
   "source": [
    "mySet=set(myString)\n",
    "print(mySet)"
   ]
  },
  {
   "cell_type": "markdown",
   "id": "616d2d82-f89e-4651-94aa-049ceb05676c",
   "metadata": {},
   "source": [
    "# Dict comprehensions"
   ]
  },
  {
   "cell_type": "code",
   "execution_count": 74,
   "id": "676d83f4-8982-4acb-9f5a-ba8900ca26d9",
   "metadata": {},
   "outputs": [
    {
     "data": {
      "text/plain": [
       "{'a': 1, 'b': 2, 'c': 3, 'd': 4}"
      ]
     },
     "execution_count": 74,
     "metadata": {},
     "output_type": "execute_result"
    }
   ],
   "source": [
    "animals=[('a',1),('b',2),('c',3),('d',4)]\n",
    "animals={item[0]:item[1] for item in animals}\n",
    "animals"
   ]
  },
  {
   "cell_type": "code",
   "execution_count": 75,
   "id": "e0da4d11-f35a-4fbe-8c28-4d4f138dbda4",
   "metadata": {},
   "outputs": [
    {
     "data": {
      "text/plain": [
       "{'a': 1, 'b': 2, 'c': 3, 'd': 4}"
      ]
     },
     "execution_count": 75,
     "metadata": {},
     "output_type": "execute_result"
    }
   ],
   "source": [
    "animals=[('a',1),('b',2),('c',3),('d',4)]\n",
    "animals={key:value for key,value in animals}\n",
    "animals"
   ]
  },
  {
   "cell_type": "code",
   "execution_count": 76,
   "id": "fe60c229-b212-4c97-9ff1-f15ee0cddc9b",
   "metadata": {},
   "outputs": [
    {
     "data": {
      "text/plain": [
       "dict_items([('a', 1), ('b', 2), ('c', 3), ('d', 4)])"
      ]
     },
     "execution_count": 76,
     "metadata": {},
     "output_type": "execute_result"
    }
   ],
   "source": [
    "animals.items()"
   ]
  },
  {
   "cell_type": "code",
   "execution_count": null,
   "id": "09bba645-cfee-4f92-b9d3-e41339fd83b4",
   "metadata": {},
   "outputs": [],
   "source": []
  }
 ],
 "metadata": {
  "kernelspec": {
   "display_name": "Python 3 (ipykernel)",
   "language": "python",
   "name": "python3"
  },
  "language_info": {
   "codemirror_mode": {
    "name": "ipython",
    "version": 3
   },
   "file_extension": ".py",
   "mimetype": "text/x-python",
   "name": "python",
   "nbconvert_exporter": "python",
   "pygments_lexer": "ipython3",
   "version": "3.13.0"
  }
 },
 "nbformat": 4,
 "nbformat_minor": 5
}
