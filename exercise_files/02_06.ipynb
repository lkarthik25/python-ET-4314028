{
 "cells": [
  {
   "cell_type": "code",
   "execution_count": 6,
   "id": "9a8bb289-eb94-4d99-9b3e-7c64976d9389",
   "metadata": {},
   "outputs": [],
   "source": [
    "class Dog:\n",
    "    def __init__(self,name):\n",
    "        self.name=name\n",
    "        self.legs=4\n",
    "    def speak(self):\n",
    "        print(self.name+' says: Bark!')"
   ]
  },
  {
   "cell_type": "code",
   "execution_count": 7,
   "id": "4fd63681-c385-49e0-8a5f-82fe9aa6210d",
   "metadata": {},
   "outputs": [],
   "source": [
    "my_dog=Dog('Rover')\n",
    "another_dog=Dog('Fluffy')"
   ]
  },
  {
   "cell_type": "code",
   "execution_count": 8,
   "id": "58e47d5b-c98b-4f0e-a03d-50dcbc5ecf78",
   "metadata": {},
   "outputs": [
    {
     "name": "stdout",
     "output_type": "stream",
     "text": [
      "Rover says: Bark!\n"
     ]
    }
   ],
   "source": [
    "my_dog.speak()"
   ]
  },
  {
   "cell_type": "code",
   "execution_count": 9,
   "id": "aae004d5-92bb-457f-864c-493940fe06fa",
   "metadata": {},
   "outputs": [
    {
     "name": "stdout",
     "output_type": "stream",
     "text": [
      "Fluffy says: Bark!\n"
     ]
    }
   ],
   "source": [
    "another_dog.speak()"
   ]
  },
  {
   "cell_type": "code",
   "execution_count": null,
   "id": "2f037b68-48a1-45cc-9adf-b93d2e579a58",
   "metadata": {},
   "outputs": [],
   "source": []
  }
 ],
 "metadata": {
  "kernelspec": {
   "display_name": "Python 3 (ipykernel)",
   "language": "python",
   "name": "python3"
  },
  "language_info": {
   "codemirror_mode": {
    "name": "ipython",
    "version": 3
   },
   "file_extension": ".py",
   "mimetype": "text/x-python",
   "name": "python",
   "nbconvert_exporter": "python",
   "pygments_lexer": "ipython3",
   "version": "3.13.0"
  }
 },
 "nbformat": 4,
 "nbformat_minor": 5
}
