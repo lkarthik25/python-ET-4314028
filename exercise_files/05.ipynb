{
 "cells": [
  {
   "cell_type": "code",
   "execution_count": 2,
   "id": "12e49ffe-0556-453f-9795-c533bbaab7a8",
   "metadata": {},
   "outputs": [
    {
     "name": "stdout",
     "output_type": "stream",
     "text": [
      "1\n",
      "2\n",
      "D3\n",
      "4\n",
      "D5\n",
      "D3\n",
      "7\n",
      "8\n",
      "D3\n",
      "D5\n",
      "11\n",
      "D3\n",
      "13\n",
      "14\n",
      "D15\n",
      "16\n",
      "17\n",
      "D3\n",
      "19\n",
      "D5\n",
      "D3\n",
      "22\n",
      "23\n",
      "D3\n",
      "D5\n",
      "26\n",
      "D3\n",
      "28\n",
      "29\n",
      "D15\n",
      "31\n",
      "32\n",
      "D3\n",
      "34\n",
      "D5\n",
      "D3\n",
      "37\n",
      "38\n",
      "D3\n",
      "D5\n",
      "41\n",
      "D3\n",
      "43\n",
      "44\n",
      "D15\n",
      "46\n",
      "47\n",
      "D3\n",
      "49\n",
      "D5\n",
      "D3\n",
      "52\n",
      "53\n",
      "D3\n",
      "D5\n",
      "56\n",
      "D3\n",
      "58\n",
      "59\n",
      "D15\n",
      "61\n",
      "62\n",
      "D3\n",
      "64\n",
      "D5\n",
      "D3\n",
      "67\n",
      "68\n",
      "D3\n",
      "D5\n",
      "71\n",
      "D3\n",
      "73\n",
      "74\n",
      "D15\n",
      "76\n",
      "77\n",
      "D3\n",
      "79\n",
      "D5\n",
      "D3\n",
      "82\n",
      "83\n",
      "D3\n",
      "D5\n",
      "86\n",
      "D3\n",
      "88\n",
      "89\n",
      "D15\n",
      "91\n",
      "92\n",
      "D3\n",
      "94\n",
      "D5\n",
      "D3\n",
      "97\n",
      "98\n",
      "D3\n",
      "D5\n"
     ]
    }
   ],
   "source": [
    "for n in range(1,101):\n",
    "    if n%15==0:\n",
    "        print ('D15')\n",
    "    else:\n",
    "        if n%5==0:\n",
    "            print ('D5')\n",
    "        else:\n",
    "            if n%3==0:\n",
    "                print ('D3')\n",
    "            else:\n",
    "                print (n)"
   ]
  },
  {
   "cell_type": "code",
   "execution_count": 3,
   "id": "afecf803-8e06-4d30-84f8-cea4604fabbb",
   "metadata": {},
   "outputs": [
    {
     "name": "stdout",
     "output_type": "stream",
     "text": [
      "1\n",
      "2\n",
      "D3\n",
      "4\n",
      "D5\n",
      "D3\n",
      "7\n",
      "8\n",
      "D3\n",
      "D5\n",
      "11\n",
      "D3\n",
      "13\n",
      "14\n",
      "D15\n",
      "16\n",
      "17\n",
      "D3\n",
      "19\n",
      "D5\n",
      "D3\n",
      "22\n",
      "23\n",
      "D3\n",
      "D5\n",
      "26\n",
      "D3\n",
      "28\n",
      "29\n",
      "D15\n",
      "31\n",
      "32\n",
      "D3\n",
      "34\n",
      "D5\n",
      "D3\n",
      "37\n",
      "38\n",
      "D3\n",
      "D5\n",
      "41\n",
      "D3\n",
      "43\n",
      "44\n",
      "D15\n",
      "46\n",
      "47\n",
      "D3\n",
      "49\n",
      "D5\n",
      "D3\n",
      "52\n",
      "53\n",
      "D3\n",
      "D5\n",
      "56\n",
      "D3\n",
      "58\n",
      "59\n",
      "D15\n",
      "61\n",
      "62\n",
      "D3\n",
      "64\n",
      "D5\n",
      "D3\n",
      "67\n",
      "68\n",
      "D3\n",
      "D5\n",
      "71\n",
      "D3\n",
      "73\n",
      "74\n",
      "D15\n",
      "76\n",
      "77\n",
      "D3\n",
      "79\n",
      "D5\n",
      "D3\n",
      "82\n",
      "83\n",
      "D3\n",
      "D5\n",
      "86\n",
      "D3\n",
      "88\n",
      "89\n",
      "D15\n",
      "91\n",
      "92\n",
      "D3\n",
      "94\n",
      "D5\n",
      "D3\n",
      "97\n",
      "98\n",
      "D3\n",
      "D5\n"
     ]
    }
   ],
   "source": [
    "for n in range(1,101):\n",
    "    if n%15==0:\n",
    "        print ('D15')\n",
    "    elif n%5==0:\n",
    "        print ('D5')\n",
    "    elif n%3==0:\n",
    "        print ('D3')\n",
    "    else:\n",
    "        print (n)"
   ]
  },
  {
   "cell_type": "code",
   "execution_count": 4,
   "id": "1ec89dea-efb2-4441-afbf-777a184883b4",
   "metadata": {},
   "outputs": [
    {
     "name": "stdout",
     "output_type": "stream",
     "text": [
      "D3\n"
     ]
    }
   ],
   "source": [
    "n=3\n",
    "print('D3' if n%3==0 else n)"
   ]
  },
  {
   "cell_type": "code",
   "execution_count": 7,
   "id": "48144239-5137-42cf-8402-539a18400ef5",
   "metadata": {},
   "outputs": [
    {
     "data": {
      "text/plain": [
       "'D3'"
      ]
     },
     "execution_count": 7,
     "metadata": {},
     "output_type": "execute_result"
    }
   ],
   "source": [
    "d='D3' if n%3==0 else n\n",
    "d"
   ]
  },
  {
   "cell_type": "code",
   "execution_count": 9,
   "id": "779ae9b0-eb47-48ab-ad18-85be8a172a30",
   "metadata": {},
   "outputs": [
    {
     "name": "stdout",
     "output_type": "stream",
     "text": [
      "[1, 2, 'D3', 4, 'D5', 'D3', 7, 8, 'D3', 'D5', 11, 'D3', 13, 14, 'D15', 16, 17, 'D3', 19, 'D5', 'D3', 22, 23, 'D3', 'D5', 26, 'D3', 28, 29, 'D15', 31, 32, 'D3', 34, 'D5', 'D3', 37, 38, 'D3', 'D5', 41, 'D3', 43, 44, 'D15', 46, 47, 'D3', 49, 'D5', 'D3', 52, 53, 'D3', 'D5', 56, 'D3', 58, 59, 'D15', 61, 62, 'D3', 64, 'D5', 'D3', 67, 68, 'D3', 'D5', 71, 'D3', 73, 74, 'D15', 76, 77, 'D3', 79, 'D5', 'D3', 82, 83, 'D3', 'D5', 86, 'D3', 88, 89, 'D15', 91, 92, 'D3', 94, 'D5', 'D3', 97, 98, 'D3', 'D5']\n"
     ]
    }
   ],
   "source": [
    "print(['D15' if n%15==0 else 'D5' if n%5==0 else 'D3' if n%3==0 else n for n in range(1,101)])"
   ]
  },
  {
   "cell_type": "markdown",
   "id": "6433d1f7-6683-4fce-a9e3-319b3eb3e101",
   "metadata": {},
   "source": [
    "# While"
   ]
  },
  {
   "cell_type": "code",
   "execution_count": 10,
   "id": "4b8cd915-8c3c-4528-be4a-7298885c2e5b",
   "metadata": {},
   "outputs": [],
   "source": [
    "from datetime import datetime"
   ]
  },
  {
   "cell_type": "code",
   "execution_count": 11,
   "id": "82e44863-e28c-4b02-bdb9-d6180c69f07f",
   "metadata": {},
   "outputs": [
    {
     "data": {
      "text/plain": [
       "18"
      ]
     },
     "execution_count": 11,
     "metadata": {},
     "output_type": "execute_result"
    }
   ],
   "source": [
    "datetime.now().second"
   ]
  },
  {
   "cell_type": "code",
   "execution_count": 14,
   "id": "4fa0fbc8-766a-4232-8fa0-e1586affb4b7",
   "metadata": {},
   "outputs": [
    {
     "data": {
      "text/plain": [
       "13"
      ]
     },
     "execution_count": 14,
     "metadata": {},
     "output_type": "execute_result"
    }
   ],
   "source": [
    "wait_until=(datetime.now().second+2)%60\n",
    "wait_until"
   ]
  },
  {
   "cell_type": "markdown",
   "id": "d0077721-6c86-46d7-a48d-1ce30341a5c7",
   "metadata": {},
   "source": [
    "# For"
   ]
  },
  {
   "cell_type": "code",
   "execution_count": 16,
   "id": "221f7204-2ff7-48bd-89a4-5be05781eb66",
   "metadata": {},
   "outputs": [
    {
     "name": "stdout",
     "output_type": "stream",
     "text": [
      "1\n",
      "2\n",
      "3\n",
      "4\n"
     ]
    }
   ],
   "source": [
    "myList=[1,2,3,4]\n",
    "for item in myList:\n",
    "    print(item)"
   ]
  },
  {
   "cell_type": "code",
   "execution_count": 19,
   "id": "7c49abec-723d-42de-9025-2585fb815a6e",
   "metadata": {},
   "outputs": [
    {
     "name": "stdout",
     "output_type": "stream",
     "text": [
      "2 is prime!\n",
      "3 is prime!\n",
      "5 is prime!\n",
      "7 is prime!\n",
      "11 is prime!\n",
      "13 is prime!\n",
      "17 is prime!\n",
      "19 is prime!\n",
      "23 is prime!\n",
      "29 is prime!\n",
      "31 is prime!\n",
      "37 is prime!\n",
      "41 is prime!\n",
      "43 is prime!\n",
      "47 is prime!\n",
      "53 is prime!\n",
      "59 is prime!\n",
      "61 is prime!\n",
      "67 is prime!\n",
      "71 is prime!\n",
      "73 is prime!\n",
      "79 is prime!\n",
      "83 is prime!\n",
      "89 is prime!\n",
      "97 is prime!\n"
     ]
    }
   ],
   "source": [
    "for num in range(2,100):\n",
    "    for factor in range(2,int(num**0.5)+1):\n",
    "        if num%factor==0:\n",
    "            break\n",
    "    else:\n",
    "        print(f'{num} is prime!')"
   ]
  },
  {
   "cell_type": "code",
   "execution_count": null,
   "id": "b9690788-452d-4548-8a91-21fc27d18f27",
   "metadata": {},
   "outputs": [],
   "source": []
  }
 ],
 "metadata": {
  "kernelspec": {
   "display_name": "Python 3 (ipykernel)",
   "language": "python",
   "name": "python3"
  },
  "language_info": {
   "codemirror_mode": {
    "name": "ipython",
    "version": 3
   },
   "file_extension": ".py",
   "mimetype": "text/x-python",
   "name": "python",
   "nbconvert_exporter": "python",
   "pygments_lexer": "ipython3",
   "version": "3.13.0"
  }
 },
 "nbformat": 4,
 "nbformat_minor": 5
}
