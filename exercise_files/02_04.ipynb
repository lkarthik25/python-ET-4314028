{
 "cells": [
  {
   "cell_type": "code",
   "execution_count": 1,
   "id": "66ec8daa-947e-491c-a2fe-977ce5845516",
   "metadata": {},
   "outputs": [
    {
     "name": "stdout",
     "output_type": "stream",
     "text": [
      "it is False\n",
      "Always!\n"
     ]
    }
   ],
   "source": [
    "a=False\n",
    "if a:\n",
    "    print('It is True')\n",
    "    print('Also, this')\n",
    "else:\n",
    "    print('it is False')\n",
    "print('Always!')"
   ]
  },
  {
   "cell_type": "code",
   "execution_count": 2,
   "id": "2dfbc955-eaae-4059-8d84-9960e2714ac9",
   "metadata": {},
   "outputs": [
    {
     "name": "stdout",
     "output_type": "stream",
     "text": [
      "It is True\n",
      "Also, this\n",
      "Always!\n"
     ]
    }
   ],
   "source": [
    "a=True\n",
    "b=False\n",
    "c=True\n",
    "if a:\n",
    "    print('It is True')\n",
    "    print('Also, this')\n",
    "    if b:\n",
    "        print('Both')\n",
    "        if c:\n",
    "            print('All')\n",
    "else:\n",
    "    print('False')\n",
    "print('Always!')"
   ]
  },
  {
   "cell_type": "code",
   "execution_count": 4,
   "id": "a2d9c720-b6f1-4c48-931a-dfd9a4b87e05",
   "metadata": {},
   "outputs": [
    {
     "name": "stdout",
     "output_type": "stream",
     "text": [
      "1\n",
      "2\n",
      "3\n",
      "4\n",
      "5\n"
     ]
    }
   ],
   "source": [
    "a=[1,2,3,4,5]\n",
    "for item in a:\n",
    "    print(item)"
   ]
  },
  {
   "cell_type": "code",
   "execution_count": 6,
   "id": "45704f3f-dad8-438e-a25f-571fd90c838d",
   "metadata": {},
   "outputs": [
    {
     "name": "stdout",
     "output_type": "stream",
     "text": [
      "1\n",
      "2\n",
      "3\n",
      "4\n",
      "5\n"
     ]
    }
   ],
   "source": [
    "a=0\n",
    "while a < 5:\n",
    "    print(a+1)\n",
    "    a+=1"
   ]
  },
  {
   "cell_type": "code",
   "execution_count": null,
   "id": "ae53bf0e-c8b1-4a46-8e3b-ba667139134b",
   "metadata": {},
   "outputs": [],
   "source": []
  }
 ],
 "metadata": {
  "kernelspec": {
   "display_name": "Python 3 (ipykernel)",
   "language": "python",
   "name": "python3"
  },
  "language_info": {
   "codemirror_mode": {
    "name": "ipython",
    "version": 3
   },
   "file_extension": ".py",
   "mimetype": "text/x-python",
   "name": "python",
   "nbconvert_exporter": "python",
   "pygments_lexer": "ipython3",
   "version": "3.13.0"
  }
 },
 "nbformat": 4,
 "nbformat_minor": 5
}
